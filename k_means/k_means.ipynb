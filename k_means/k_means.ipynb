{
 "cells": [
  {
   "cell_type": "code",
   "execution_count": 1,
   "metadata": {},
   "outputs": [],
   "source": [
    "import pandas as pd\n",
    "import numpy as np\n",
    "import matplotlib.pyplot as plt\n",
    "%matplotlib inline"
   ]
  },
  {
   "cell_type": "code",
   "execution_count": 31,
   "metadata": {},
   "outputs": [],
   "source": [
    "X=[[ 12 , 39 ],\n",
    "[ 20 , 36 ],\n",
    "[ 28 , 30 ],\n",
    "[ 18 , 52 ],\n",
    "[ 29 , 54 ],\n",
    "[ 33 , 46 ],\n",
    "[ 24 , 55 ],\n",
    "[ 45 , 59 ],\n",
    "[ 45 , 63 ],\n",
    "[ 52 , 70 ],\n",
    "[ 51 , 66 ],\n",
    "[ 52 , 63 ],\n",
    "[ 55 , 58 ],\n",
    "[ 53 , 23 ],\n",
    "[ 55 , 14 ],\n",
    "[ 61 , 8 ],\n",
    "[ 64 , 19 ],\n",
    "[ 69 , 7 ],\n",
    "[ 72 , 24 ]]\n",
    "\n",
    "X=np.array(X)"
   ]
  },
  {
   "cell_type": "code",
   "execution_count": 32,
   "metadata": {},
   "outputs": [],
   "source": [
    "# X=[ [5,4], [4,6], [7,10], [1,3], [7,2], [8,9]]\n",
    "# X=np.array(X)"
   ]
  },
  {
   "cell_type": "code",
   "execution_count": 33,
   "metadata": {},
   "outputs": [
    {
     "data": {
      "image/png": "[encoded data removed]",
      "text/plain": [
       "<Figure size 432x288 with 1 Axes>"
      ]
     },
     "metadata": {
      "needs_background": "light"
     },
     "output_type": "display_data"
    }
   ],
   "source": [
    "plt.scatter(X[:,0],X[:,1],marker='*' ) \n",
    "plt.show()"
   ]
  },
  {
   "cell_type": "markdown",
   "metadata": {},
   "source": [
    "### Selecting K random centroids"
   ]
  },
  {
   "cell_type": "code",
   "execution_count": 34,
   "metadata": {},
   "outputs": [],
   "source": [
    "def get_random_centroids(k):\n",
    "    centroids={}\n",
    "    while True:\n",
    "        ri=np.random.choice(range(len(X)), k)\n",
    "        print(ri)\n",
    "        if len(set(ri))==k:  #found distinct k indexes.\n",
    "            for i in range(k):\n",
    "                centroids[i]=X[ri[i]]\n",
    "            break\n",
    "\n",
    "    return centroids"
   ]
  },
  {
   "cell_type": "code",
   "execution_count": 37,
   "metadata": {},
   "outputs": [
    {
     "name": "stdout",
     "output_type": "stream",
     "text": [
      "[ 4 11  1]\n",
      "{0: array([29, 54]), 1: array([52, 63]), 2: array([20, 36])}\n"
     ]
    }
   ],
   "source": [
    "k = 3\n",
    "centroids=get_random_centroids(k)\n",
    "print(centroids)"
   ]
  },
  {
   "cell_type": "code",
   "execution_count": 38,
   "metadata": {},
   "outputs": [
    {
     "data": {
      "image/png": "[encoded data removed]",
      "text/plain": [
       "<Figure size 432x288 with 1 Axes>"
      ]
     },
     "metadata": {
      "needs_background": "light"
     },
     "output_type": "display_data"
    }
   ],
   "source": [
    "plt.scatter(X[:,0],X[:,1],marker='*' ) \n",
    "for i in centroids.keys():\n",
    "    plt.scatter(*centroids[i], c=[np.random.rand(3,)]) \n",
    "plt.show()"
   ]
  },
  {
   "cell_type": "markdown",
   "metadata": {},
   "source": [
    "### Calculate error and updating centroids"
   ]
  },
  {
   "cell_type": "code",
   "execution_count": 39,
   "metadata": {},
   "outputs": [],
   "source": [
    "def e_dist(x1, x2):\n",
    "    return np.linalg.norm(x1-x2)"
   ]
  },
  {
   "cell_type": "code",
   "execution_count": 40,
   "metadata": {},
   "outputs": [],
   "source": [
    "def e_dist(x1, x2):\n",
    "    return np.sqrt( (x1[0]-x2[0])**2 +  (x1[1]-x2[1])**2)"
   ]
  },
  {
   "cell_type": "code",
   "execution_count": 41,
   "metadata": {},
   "outputs": [
    {
     "data": {
      "text/plain": [
       "5.0"
      ]
     },
     "execution_count": 41,
     "metadata": {},
     "output_type": "execute_result"
    }
   ],
   "source": [
    "e_dist(np.array([0,0]), np.array([3,4]))"
   ]
  },
  {
   "cell_type": "code",
   "execution_count": 42,
   "metadata": {},
   "outputs": [
    {
     "name": "stdout",
     "output_type": "stream",
     "text": [
      "[22.67156809750927, 46.647615158762406, 8.54400374531753]\n",
      "2\n"
     ]
    }
   ],
   "source": [
    "x=[12,39]\n",
    "dd=[e_dist(x,v) for k,v in centroids.items() ]\n",
    "print(dd)\n",
    "closest=dd.index( min(dd) )\n",
    "print(closest)"
   ]
  },
  {
   "cell_type": "code",
   "execution_count": 43,
   "metadata": {},
   "outputs": [
    {
     "name": "stdout",
     "output_type": "stream",
     "text": [
      "x= [12 39]  closest centroid= [20 36]\n",
      "x= [20 36]  closest centroid= [20 36]\n",
      "x= [28 30]  closest centroid= [20 36]\n",
      "x= [18 52]  closest centroid= [29 54]\n",
      "x= [29 54]  closest centroid= [29 54]\n",
      "x= [33 46]  closest centroid= [29 54]\n",
      "x= [24 55]  closest centroid= [29 54]\n",
      "x= [45 59]  closest centroid= [52 63]\n",
      "x= [45 63]  closest centroid= [52 63]\n",
      "x= [52 70]  closest centroid= [52 63]\n",
      "x= [51 66]  closest centroid= [52 63]\n",
      "x= [52 63]  closest centroid= [52 63]\n",
      "x= [55 58]  closest centroid= [52 63]\n",
      "x= [53 23]  closest centroid= [20 36]\n",
      "x= [55 14]  closest centroid= [20 36]\n",
      "x= [61  8]  closest centroid= [20 36]\n",
      "x= [64 19]  closest centroid= [52 63]\n",
      "x= [69  7]  closest centroid= [20 36]\n",
      "x= [72 24]  closest centroid= [52 63]\n"
     ]
    }
   ],
   "source": [
    "# x=[12,39]\n",
    "for x in X:             #for each sample\n",
    "    dists=[e_dist(x,v) for k,v in centroids.items() ]\n",
    "    closest=dists.index( min(dists) )\n",
    "    mc=list(centroids.values())[closest]\n",
    "    print('x=',x,' closest centroid=',mc)"
   ]
  },
  {
   "cell_type": "code",
   "execution_count": null,
   "metadata": {},
   "outputs": [],
   "source": []
  },
  {
   "cell_type": "code",
   "execution_count": null,
   "metadata": {},
   "outputs": [],
   "source": []
  },
  {
   "cell_type": "code",
   "execution_count": 44,
   "metadata": {},
   "outputs": [
    {
     "name": "stdout",
     "output_type": "stream",
     "text": [
      "centroids:  {0: array([29, 54]), 1: array([52, 63]), 2: array([20, 36])}\n",
      "centroids:  {0: array([26.  , 51.75]), 1: array([54.5 , 52.75]), 2: array([42.57142857, 22.42857143])}\n",
      "centroids:  {0: array([22.66666667, 47.        ]), 1: array([50.        , 63.16666667]), 2: array([57.42857143, 17.85714286])}\n",
      "centroids:  {0: array([23.42857143, 44.57142857]), 1: array([50.        , 63.16666667]), 2: array([62.33333333, 15.83333333])}\n",
      "NO FURTHER UPDATE\n"
     ]
    }
   ],
   "source": [
    "nitr=100\n",
    "\n",
    "old_centroids={}\n",
    "for i in range(nitr):\n",
    "    clusters={}\n",
    "    for ik,iv in centroids.items():\n",
    "        clusters[ik]=[]\n",
    "    \n",
    "    print('centroids: ',centroids)\n",
    "    for x in X:\n",
    "        dists=[e_dist(x,v) for k,v in centroids.items() ] #k distance from k centroid.\n",
    "        closest=dists.index( min(dists) )\n",
    "        clusters[closest].append(x)\n",
    "\n",
    "    for ik in range(k):\n",
    "        old_centroids[ik]=centroids[ik].copy()\n",
    "    #update centroids.\n",
    "    nc={}\n",
    "    for ik in range(k):\n",
    "        avg_c=np.array(clusters[ik]).mean(axis=0)\n",
    "        nc[ik]=avg_c  #average.\n",
    "        centroids[ik]=avg_c\n",
    "    \n",
    "    #checking centroids update.\n",
    "    nupdate=0\n",
    "    for ik in range(k):\n",
    "        if e_dist( centroids[ik], old_centroids[ik] ) > 0:\n",
    "            nupdate+=1\n",
    "    if nupdate==0:\n",
    "        print('NO FURTHER UPDATE')\n",
    "        break\n",
    "        \n",
    "#     break\n",
    "    "
   ]
  },
  {
   "cell_type": "code",
   "execution_count": 45,
   "metadata": {},
   "outputs": [
    {
     "name": "stdout",
     "output_type": "stream",
     "text": [
      "{0: array([23.42857143, 44.57142857]), 1: array([50.        , 63.16666667]), 2: array([62.33333333, 15.83333333])}\n"
     ]
    }
   ],
   "source": [
    "print(centroids)"
   ]
  },
  {
   "cell_type": "code",
   "execution_count": 46,
   "metadata": {},
   "outputs": [
    {
     "data": {
      "image/png": "[encoded data removed]",
      "text/plain": [
       "<Figure size 432x288 with 1 Axes>"
      ]
     },
     "metadata": {
      "needs_background": "light"
     },
     "output_type": "display_data"
    }
   ],
   "source": [
    "plt.scatter(X[:,0],X[:,1],marker='o' )\n",
    "\n",
    "colmap = {0: 'r', 1: 'g', 2: 'y', 3:'b'}\n",
    "for i in centroids.keys():\n",
    "    plt.scatter(centroids[i][0], centroids[i][1], color=colmap[i])\n",
    "plt.show()"
   ]
  },
  {
   "cell_type": "code",
   "execution_count": 30,
   "metadata": {},
   "outputs": [
    {
     "data": {
      "text/plain": [
       "{0: array([35.69230769, 53.15384615]),\n",
       " 1: array([68.33333333, 16.66666667]),\n",
       " 2: array([56.33333333, 15.        ])}"
      ]
     },
     "execution_count": 30,
     "metadata": {},
     "output_type": "execute_result"
    }
   ],
   "source": [
    "centroids"
   ]
  },
  {
   "cell_type": "markdown",
   "metadata": {},
   "source": [
    "### Finding Good K using elbow method."
   ]
  },
  {
   "cell_type": "code",
   "execution_count": 16,
   "metadata": {},
   "outputs": [
    {
     "name": "stdout",
     "output_type": "stream",
     "text": [
      "sse= 1624.4285714285716\n"
     ]
    }
   ],
   "source": [
    "sse=0\n",
    "for cluster,centroid in zip(clusters.values() ,centroids.values()):\n",
    "#     print(centroid) \n",
    "    for x in cluster:\n",
    "        d=e_dist(x, centroid)\n",
    "        sse+=d*d\n",
    "print('sse=',sse)"
   ]
  },
  {
   "cell_type": "code",
   "execution_count": 22,
   "metadata": {},
   "outputs": [
    {
     "name": "stdout",
     "output_type": "stream",
     "text": [
      "[6]\n",
      "centroids:  {0: array([24, 55])}\n",
      "centroids:  {0: array([44.10526316, 41.36842105])}\n",
      "NO FURTHER UPDATE\n",
      "k= 1 sse= 13654.210526315788\n",
      "[14 10]\n",
      "centroids:  {0: array([55, 14]), 1: array([51, 66])}\n",
      "centroids:  {0: array([52.75 , 20.125]), 1: array([37.81818182, 56.81818182])}\n",
      "centroids:  {0: array([57.42857143, 17.85714286]), 1: array([36.33333333, 55.08333333])}\n",
      "centroids:  {0: array([62.33333333, 15.83333333]), 1: array([35.69230769, 53.15384615])}\n",
      "NO FURTHER UPDATE\n",
      "k= 2 sse= 5022.628205128206\n",
      "[ 0  5 11]\n",
      "centroids:  {0: array([12, 39]), 1: array([33, 46]), 2: array([52, 63])}\n",
      "centroids:  {0: array([16.66666667, 42.33333333]), 1: array([46.22222222, 28.44444444]), 2: array([53.14285714, 57.57142857])}\n",
      "centroids:  {0: array([23.42857143, 44.57142857]), 1: array([62.33333333, 15.83333333]), 2: array([50.        , 63.16666667])}\n",
      "NO FURTHER UPDATE\n",
      "k= 3 sse= 1624.4285714285718\n",
      "[12  7  6  6]\n",
      "[ 9  9 17 17]\n",
      "[10  8 17 18]\n",
      "centroids:  {0: array([51, 66]), 1: array([45, 63]), 2: array([69,  7]), 3: array([72, 24])}\n",
      "centroids:  {0: array([52.5 , 64.25]), 1: array([28.22222222, 48.22222222]), 2: array([61.66666667,  9.66666667]), 3: array([63., 22.])}\n",
      "centroids:  {0: array([50.        , 63.16666667]), 1: array([23.42857143, 44.57142857]), 2: array([61.66666667,  9.66666667]), 3: array([63., 22.])}\n",
      "NO FURTHER UPDATE\n",
      "k= 4 sse= 1393.595238095238\n",
      "[12  7  7 18 18]\n",
      "[ 0 18 12 13 11]\n",
      "centroids:  {0: array([12, 39]), 1: array([72, 24]), 2: array([55, 58]), 3: array([53, 23]), 4: array([52, 63])}\n",
      "centroids:  {0: array([23.42857143, 44.57142857]), 1: array([68.33333333, 16.66666667]), 2: array([55., 58.]), 3: array([56.33333333, 15.        ]), 4: array([49. , 64.2])}\n",
      "NO FURTHER UPDATE\n",
      "k= 5 sse= 1342.2285714285715\n",
      "[15 10  8 16 18  3]\n",
      "centroids:  {0: array([61,  8]), 1: array([51, 66]), 2: array([45, 63]), 3: array([64, 19]), 4: array([72, 24]), 5: array([18, 52])}\n",
      "centroids:  {0: array([61.66666667,  9.66666667]), 1: array([52.5 , 64.25]), 2: array([45., 61.]), 3: array([58.5, 21. ]), 4: array([72., 24.]), 5: array([23.42857143, 44.57142857])}\n",
      "centroids:  {0: array([65. ,  7.5]), 1: array([52.5 , 64.25]), 2: array([45., 61.]), 3: array([57.33333333, 18.66666667]), 4: array([72., 24.]), 5: array([23.42857143, 44.57142857])}\n",
      "NO FURTHER UPDATE\n",
      "k= 6 sse= 1123.0119047619048\n",
      "[13 14  8  9 15  5  8]\n",
      "[ 6  2 10  9  4  9  9]\n",
      "[18 10  0  1  7 15 10]\n",
      "[ 2  2  1  0  4 14  7]\n",
      "[ 9 18  3  2  5  9 12]\n",
      "[ 6  7 18  1 10 14  5]\n",
      "centroids:  {0: array([24, 55]), 1: array([45, 59]), 2: array([72, 24]), 3: array([20, 36]), 4: array([51, 66]), 5: array([55, 14]), 6: array([33, 46])}\n",
      "centroids:  {0: array([23.66666667, 53.66666667]), 1: array([45., 61.]), 2: array([68. , 21.5]), 3: array([20., 35.]), 4: array([52.5 , 64.25]), 5: array([59.5, 13. ]), 6: array([33., 46.])}\n",
      "NO FURTHER UPDATE\n",
      "k= 7 sse= 690.5833333333333\n",
      "[ 1 10  1  5 11  6  3 17]\n",
      "[ 5 15  7 17 17 15  9  0]\n",
      "[10  2 14 12  4 16 14 18]\n",
      "[15  1  6  8 12 15 18  7]\n",
      "[ 3 12  6  7  9  3  0  5]\n",
      "[ 5  3 11  5  4  6 11  7]\n",
      "[ 5 14 16  4 18  8  8 14]\n",
      "[18  1  0  1 17  1  1  4]\n",
      "[ 6  6  1 11 15  2  1  2]\n",
      "[13 11 18 13 12 14  4  4]\n",
      "[14  6 15  7 17 13  8  3]\n",
      "centroids:  {0: array([55, 14]), 1: array([24, 55]), 2: array([61,  8]), 3: array([45, 59]), 4: array([69,  7]), 5: array([53, 23]), 6: array([45, 63]), 7: array([18, 52])}\n",
      "centroids:  {0: array([59.5, 16.5]), 1: array([28.66666667, 51.66666667]), 2: array([61.,  8.]), 3: array([50. , 58.5]), 4: array([70.5, 15.5]), 5: array([53., 23.]), 6: array([50. , 65.5]), 7: array([19.5 , 39.25])}\n",
      "centroids:  {0: array([59.5, 16.5]), 1: array([26.  , 51.75]), 2: array([65. ,  7.5]), 3: array([50. , 58.5]), 4: array([72., 24.]), 5: array([53., 23.]), 6: array([50. , 65.5]), 7: array([20., 35.])}\n",
      "NO FURTHER UPDATE\n",
      "k= 8 sse= 547.75\n",
      "[16 14  6 15 10  5 16  7 13]\n",
      "[ 1 10  8 18  5 15 12 16 18]\n",
      "[16 13 11  4 13 15 13  8 14]\n",
      "[ 9  5  1  8 10 16  4  7  1]\n",
      "[ 3  3  4 15  8 14  5 13  8]\n",
      "[14 16 17 17 16  7 16  4 14]\n",
      "[15  1  1  0 15  2 11  1  3]\n",
      "[18 12  7 16  9  5  2  3  5]\n",
      "[ 7 14  1  3 11 12  5  6 13]\n",
      "centroids:  {0: array([45, 59]), 1: array([55, 14]), 2: array([20, 36]), 3: array([18, 52]), 4: array([52, 63]), 5: array([55, 58]), 6: array([33, 46]), 7: array([24, 55]), 8: array([53, 23])}\n",
      "centroids:  {0: array([45., 61.]), 1: array([62.25, 12.  ]), 2: array([20., 35.]), 3: array([18., 52.]), 4: array([51.66666667, 66.33333333]), 5: array([55., 58.]), 6: array([33., 46.]), 7: array([26.5, 54.5]), 8: array([62.5, 23.5])}\n",
      "centroids:  {0: array([45., 61.]), 1: array([61.66666667,  9.66666667]), 2: array([20., 35.]), 3: array([18., 52.]), 4: array([51.66666667, 66.33333333]), 5: array([55., 58.]), 6: array([33., 46.]), 7: array([26.5, 54.5]), 8: array([63., 22.])}\n",
      "NO FURTHER UPDATE\n",
      "k= 9 sse= 539.6666666666667\n"
     ]
    }
   ],
   "source": [
    "nitr=100\n",
    "sses={}\n",
    "for k in range(1,10):   #trying for different k value.\n",
    "    \n",
    "    centroids=get_random_centroids(k)\n",
    "    old_centroids={}\n",
    "    for i in range(nitr):\n",
    "        clusters={}\n",
    "        for ik,iv in centroids.items():\n",
    "            clusters[ik]=[]\n",
    "\n",
    "        print('centroids: ',centroids)\n",
    "        for x in X:\n",
    "            dists=[e_dist(x,v) for k,v in centroids.items() ] #k distance from k centroid.\n",
    "            closest=dists.index( min(dists) )\n",
    "            clusters[closest].append(x)\n",
    "\n",
    "        for ik in range(k):\n",
    "            old_centroids[ik]=centroids[ik].copy()\n",
    "        #update centroids.\n",
    "        nc={}\n",
    "        for ik in range(k):\n",
    "            avg_c=np.array(clusters[ik]).mean(axis=0)\n",
    "            nc[ik]=avg_c  #average.\n",
    "            centroids[ik]=avg_c\n",
    "\n",
    "        #checking centroids update.\n",
    "        nupdate=0\n",
    "        for ik in range(k):\n",
    "            if e_dist( centroids[ik], old_centroids[ik] ) > 0:\n",
    "                nupdate+=1\n",
    "        if nupdate==0:\n",
    "            print('NO FURTHER UPDATE')\n",
    "            break\n",
    "\n",
    "    #     break\n",
    "\n",
    "    sse=0\n",
    "    for cluster,centroid in zip(clusters.values() ,centroids.values()):\n",
    "    #     print(centroid) \n",
    "        for x in cluster:\n",
    "            d=e_dist(x, centroid)\n",
    "            sse+=d*d\n",
    "    print('k=',k, 'sse=',sse)\n",
    "    sses[k]=sse"
   ]
  },
  {
   "cell_type": "code",
   "execution_count": 23,
   "metadata": {},
   "outputs": [
    {
     "data": {
      "text/plain": [
       "{1: 13654.210526315788,\n",
       " 2: 5022.628205128206,\n",
       " 3: 1624.4285714285718,\n",
       " 4: 1393.595238095238,\n",
       " 5: 1342.2285714285715,\n",
       " 6: 1123.0119047619048,\n",
       " 7: 690.5833333333333,\n",
       " 8: 547.75,\n",
       " 9: 539.6666666666667}"
      ]
     },
     "execution_count": 23,
     "metadata": {},
     "output_type": "execute_result"
    }
   ],
   "source": [
    "sses"
   ]
  },
  {
   "cell_type": "code",
   "execution_count": 27,
   "metadata": {},
   "outputs": [
    {
     "name": "stdout",
     "output_type": "stream",
     "text": [
      "[1, 2, 3, 4, 5, 6, 7, 8, 9]\n"
     ]
    }
   ],
   "source": [
    "ks=[i+1 for i in range(len(sses.values()))]\n",
    "print(ks)"
   ]
  },
  {
   "cell_type": "code",
   "execution_count": 28,
   "metadata": {},
   "outputs": [
    {
     "data": {
      "image/png": "[encoded data removed]",
      "text/plain": [
       "<Figure size 432x288 with 1 Axes>"
      ]
     },
     "metadata": {
      "needs_background": "light"
     },
     "output_type": "display_data"
    }
   ],
   "source": [
    "# sses=[9486.846153846154, 1928.595238095238, 2195.8333333333335]\n",
    "plt.plot(ks, sses.values())\n",
    "plt.title('k vs sse')\n",
    "plt.show()"
   ]
  },
  {
   "cell_type": "markdown",
   "metadata": {},
   "source": [
    "<b>From the graph above, it seems k=3 is best."
   ]
  },
  {
   "cell_type": "markdown",
   "metadata": {},
   "source": [
    "### Using Scikit-Learn"
   ]
  },
  {
   "cell_type": "code",
   "execution_count": 47,
   "metadata": {},
   "outputs": [],
   "source": [
    "from sklearn.cluster import KMeans"
   ]
  },
  {
   "cell_type": "code",
   "execution_count": 48,
   "metadata": {},
   "outputs": [],
   "source": [
    "km=KMeans(n_clusters=3)"
   ]
  },
  {
   "cell_type": "code",
   "execution_count": 49,
   "metadata": {},
   "outputs": [
    {
     "data": {
      "text/plain": [
       "KMeans(algorithm='auto', copy_x=True, init='k-means++', max_iter=300,\n",
       "    n_clusters=3, n_init=10, n_jobs=None, precompute_distances='auto',\n",
       "    random_state=None, tol=0.0001, verbose=0)"
      ]
     },
     "execution_count": 49,
     "metadata": {},
     "output_type": "execute_result"
    }
   ],
   "source": [
    "km.fit(X)"
   ]
  },
  {
   "cell_type": "code",
   "execution_count": 50,
   "metadata": {},
   "outputs": [
    {
     "name": "stdout",
     "output_type": "stream",
     "text": [
      "[[50.         63.16666667]\n",
      " [62.33333333 15.83333333]\n",
      " [23.42857143 44.57142857]]\n"
     ]
    }
   ],
   "source": [
    "sc=km.cluster_centers_\n",
    "print(sc)"
   ]
  },
  {
   "cell_type": "code",
   "execution_count": 51,
   "metadata": {},
   "outputs": [
    {
     "data": {
      "image/png": "[encoded data removed]",
      "text/plain": [
       "<Figure size 432x288 with 1 Axes>"
      ]
     },
     "metadata": {
      "needs_background": "light"
     },
     "output_type": "display_data"
    }
   ],
   "source": [
    "plt.scatter(X[:,0],X[:,1],marker='o' )\n",
    "\n",
    "for i,c in enumerate(sc):\n",
    "    plt.scatter(c[0], c[1], c=[np.random.rand(3,)])\n",
    "plt.show()"
   ]
  },
  {
   "cell_type": "code",
   "execution_count": null,
   "metadata": {},
   "outputs": [],
   "source": []
  },
  {
   "cell_type": "code",
   "execution_count": null,
   "metadata": {},
   "outputs": [],
   "source": []
  }
 ],
 "metadata": {
  "kernelspec": {
   "display_name": "Python 3",
   "language": "python",
   "name": "python3"
  },
  "language_info": {
   "codemirror_mode": {
    "name": "ipython",
    "version": 3
   },
   "file_extension": ".py",
   "mimetype": "text/x-python",
   "name": "python",
   "nbconvert_exporter": "python",
   "pygments_lexer": "ipython3",
   "version": "3.8.5"
  }
 },
 "nbformat": 4,
 "nbformat_minor": 2
}
