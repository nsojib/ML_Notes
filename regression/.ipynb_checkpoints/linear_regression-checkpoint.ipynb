{
 "cells": [
  {
   "cell_type": "markdown",
   "id": "million-cancer",
   "metadata": {},
   "source": [
    "### Linear Regression"
   ]
  },
  {
   "cell_type": "code",
   "execution_count": 1,
   "id": "dietary-buyer",
   "metadata": {},
   "outputs": [],
   "source": [
    "import matplotlib.pyplot as plt \n",
    "import numpy as np"
   ]
  },
  {
   "cell_type": "markdown",
   "id": "olive-search",
   "metadata": {},
   "source": [
    "<b>toy dataset</b>"
   ]
  },
  {
   "cell_type": "code",
   "execution_count": 11,
   "id": "contemporary-blackjack",
   "metadata": {},
   "outputs": [
    {
     "name": "stdout",
     "output_type": "stream",
     "text": [
      "X shape:  (18, 1)\n",
      "y shape:  (18, 1)\n"
     ]
    },
    {
     "data": {
      "image/png": "[encoded data removed]",
      "text/plain": [
       "<Figure size 432x288 with 1 Axes>"
      ]
     },
     "metadata": {
      "needs_background": "light"
     },
     "output_type": "display_data"
    }
   ],
   "source": [
    "X=np.array( [10, 15, 20, 25, 30,35,  40,45, 50,55, 60, 65, 70, 75, 80,85, 90,100] )\n",
    "y=np.array( [90, 94, 115, 120, 155, 130, 157, 150, 174, 166, 168, 210, 230, 260, 233, 240, 260, 300] )\n",
    "\n",
    "X=X.reshape(-1, 1)  # m x 1\n",
    "y=y.reshape(-1, 1)  # m x 1\n",
    "print('X shape: ', X.shape)\n",
    "print('y shape: ', y.shape)\n",
    "\n",
    "\n",
    "plt.scatter(X, y, color = 'b') \n",
    "plt.title('x vs y') \n",
    "plt.xlim(0, 100)\n",
    "plt.ylim(0, 300)\n",
    "plt.show()"
   ]
  },
  {
   "cell_type": "markdown",
   "id": "boolean-bailey",
   "metadata": {},
   "source": [
    "<b>Equations</b>\n",
    "$$Hypothesis \\space \\space \\hat{y}=w^T.x $$\n",
    "$$For\\space all \\space data \\space at \\space once, \\space \\space \\hat{y}=X.w $$\n",
    "\n",
    "$$ MSE  \\space Loss, \\space J(w) =\\frac{1}{n} \\sum_{i=0}^{n}(\\hat{y} - y )^2 $$"
   ]
  },
  {
   "cell_type": "code",
   "execution_count": 12,
   "id": "social-andrews",
   "metadata": {},
   "outputs": [
    {
     "name": "stdout",
     "output_type": "stream",
     "text": [
      "X shape:  (18, 2)\n",
      "[[ 1 10]\n",
      " [ 1 15]\n",
      " [ 1 20]]\n"
     ]
    }
   ],
   "source": [
    "#augmenting the data: adding 1 at the first column\n",
    "X=np.hstack([np.ones_like(X ), X])\n",
    "print('X shape: ', X.shape)\n",
    "print(X[:3])"
   ]
  },
  {
   "cell_type": "markdown",
   "id": "copyrighted-spouse",
   "metadata": {},
   "source": [
    "<b>Solution #1: Normal Equation</b>\n",
    " $$\\mathbf{w} = (X^TX)^{-1}X^T\\mathbf{y}  $$ \n"
   ]
  },
  {
   "cell_type": "code",
   "execution_count": 13,
   "id": "welcome-punch",
   "metadata": {},
   "outputs": [
    {
     "name": "stdout",
     "output_type": "stream",
     "text": [
      "w= [[63.83193277]\n",
      " [ 2.21371075]]\n"
     ]
    }
   ],
   "source": [
    "w=(np.linalg.pinv( X.T @ X ) @ X.T ) @ y\n",
    "print('w=',w)"
   ]
  },
  {
   "cell_type": "code",
   "execution_count": 15,
   "id": "sitting-mambo",
   "metadata": {},
   "outputs": [],
   "source": [
    "#prediction\n",
    "yhat=X@w"
   ]
  },
  {
   "cell_type": "code",
   "execution_count": 21,
   "id": "hearing-stack",
   "metadata": {},
   "outputs": [
    {
     "data": {
      "text/plain": [
       "Text(0.5, 1.0, 'Best fit line: using normal equation')"
      ]
     },
     "execution_count": 21,
     "metadata": {},
     "output_type": "execute_result"
    },
    {
     "data": {
      "image/png": "[encoded data removed]",
      "text/plain": [
       "<Figure size 432x288 with 1 Axes>"
      ]
     },
     "metadata": {
      "needs_background": "light"
     },
     "output_type": "display_data"
    }
   ],
   "source": [
    "m,c=w[1], w[0]\n",
    "xx=[ min(X[:,1])  , max((X[:,1]))]\n",
    "yy=[m*xx[0]+c, m*xx[1]+c]\n",
    "\n",
    "plt.scatter(X[:,1], y ) \n",
    "# plt.plot(X[:,1], yhat, c='r')\n",
    "plt.plot(xx, yy, c='r')\n",
    "plt.title('Best fit line: using normal equation')"
   ]
  },
  {
   "cell_type": "markdown",
   "id": "potential-absence",
   "metadata": {},
   "source": [
    "\n",
    " <b>Solution #2: Gradient Descent</b>\n",
    " \n",
    " $$dw= \\frac{1}{m}(X^T (\\hat y -y))$$\n",
    " $$ w=w-lr*dw $$\n",
    " \n",
    " $$ where, \\space lr=learning \\space  rate$$"
   ]
  },
  {
   "cell_type": "code",
   "execution_count": 29,
   "id": "killing-being",
   "metadata": {},
   "outputs": [],
   "source": [
    "m=X.shape[0]\n",
    "nepoch=500\n",
    "losses=[]\n",
    "lr=0.00001\n",
    "w=np.zeros((X.shape[1], 1 ) )\n",
    "for i in range(nepoch): \n",
    "    yhat=X @ w\n",
    "    loss=np.mean( (yhat-y)**2 )\n",
    "    losses.append(loss)\n",
    "    dw=(X.T @ (yhat-y))/m\n",
    "    w=w -  lr*dw"
   ]
  },
  {
   "cell_type": "code",
   "execution_count": 30,
   "id": "elect-setup",
   "metadata": {},
   "outputs": [
    {
     "data": {
      "text/plain": [
       "Text(0.5, 1.0, 'loss vs epoch')"
      ]
     },
     "execution_count": 30,
     "metadata": {},
     "output_type": "execute_result"
    },
    {
     "data": {
      "image/png": "[encoded data removed]",
      "text/plain": [
       "<Figure size 432x288 with 1 Axes>"
      ]
     },
     "metadata": {
      "needs_background": "light"
     },
     "output_type": "display_data"
    }
   ],
   "source": [
    "plt.plot(losses)\n",
    "plt.title('loss vs epoch')"
   ]
  },
  {
   "cell_type": "code",
   "execution_count": 31,
   "id": "muslim-workplace",
   "metadata": {},
   "outputs": [
    {
     "data": {
      "text/plain": [
       "array([[0.11203197],\n",
       "       [3.17921924]])"
      ]
     },
     "execution_count": 31,
     "metadata": {},
     "output_type": "execute_result"
    }
   ],
   "source": [
    "w"
   ]
  },
  {
   "cell_type": "code",
   "execution_count": 32,
   "id": "emerging-surface",
   "metadata": {},
   "outputs": [
    {
     "data": {
      "text/plain": [
       "Text(0.5, 1.0, 'Best fit line: using gradient descent')"
      ]
     },
     "execution_count": 32,
     "metadata": {},
     "output_type": "execute_result"
    },
    {
     "data": {
      "image/png": "[encoded data removed]",
      "text/plain": [
       "<Figure size 432x288 with 1 Axes>"
      ]
     },
     "metadata": {
      "needs_background": "light"
     },
     "output_type": "display_data"
    }
   ],
   "source": [
    "m,c=w[1], w[0]\n",
    "xx=[ min(X[:,1])  , max((X[:,1]))]\n",
    "yy=[m*xx[0]+c, m*xx[1]+c]\n",
    "\n",
    "plt.scatter(X[:,1], y ) \n",
    "# plt.plot(X[:,1], yhat, c='r')\n",
    "plt.plot(xx, yy, c='r')\n",
    "plt.title('Best fit line: using gradient descent')"
   ]
  },
  {
   "cell_type": "code",
   "execution_count": 36,
   "id": "prompt-teddy",
   "metadata": {},
   "outputs": [
    {
     "name": "stdout",
     "output_type": "stream",
     "text": [
      "prediction: [[298.95864082]]\n"
     ]
    }
   ],
   "source": [
    "#predict y for a new data\n",
    "xt=np.array([1, 94]).reshape(1, -1)\n",
    "yhat=xt @ w\n",
    "print('prediction:', yhat)"
   ]
  },
  {
   "cell_type": "markdown",
   "id": "latter-conviction",
   "metadata": {},
   "source": [
    "<b>House Price Dataset</b>\n",
    "\n",
    "The file ex1data2.txt contains a training set of housing prices in Portland, Oregon. The first column is the size of the house (in square feet), the second column is the number of bedrooms, and the third column is the price of the house."
   ]
  },
  {
   "cell_type": "code",
   "execution_count": 39,
   "id": "choice-battery",
   "metadata": {},
   "outputs": [
    {
     "name": "stdout",
     "output_type": "stream",
     "text": [
      "Total:  (47, 3) (47, 1)\n",
      "first 3 data:\n",
      " [[1.000e+00 2.104e+03 3.000e+00]\n",
      " [1.000e+00 1.600e+03 3.000e+00]\n",
      " [1.000e+00 2.400e+03 3.000e+00]]\n"
     ]
    }
   ],
   "source": [
    "fn='ex1data2.txt'\n",
    "with open(fn) as f:\n",
    "    lines=f.readlines()\n",
    "\n",
    "X, y=[],[]\n",
    "for line in lines:\n",
    "        sx1,sx2,sy=line.strip('\\n').split(',')\n",
    "        sx1=float(sx1)\n",
    "        sx2=float(sx2)\n",
    "        sy=float(sy)\n",
    "        X.append([1,sx1, sx2])\n",
    "        y.append(sy)\n",
    "\n",
    "X=np.array(X)\n",
    "y=np.array(y).reshape(-1,1)\n",
    "print('Total: ', X.shape, y.shape)\n",
    "print('first 3 data:\\n', X[:3])"
   ]
  },
  {
   "cell_type": "markdown",
   "id": "fuzzy-german",
   "metadata": {},
   "source": [
    "<b>Feature scaling: for faster gradient optimization</b>"
   ]
  },
  {
   "cell_type": "code",
   "execution_count": 41,
   "id": "unusual-crime",
   "metadata": {},
   "outputs": [
    {
     "name": "stdout",
     "output_type": "stream",
     "text": [
      "first 3 data:\n",
      " [[1.         0.46985261 0.6       ]\n",
      " [1.         0.35730237 0.6       ]\n",
      " [1.         0.53595355 0.6       ]]\n"
     ]
    }
   ],
   "source": [
    "ms1=max((X[:,1]))\n",
    "ms2=max((X[:,2]))\n",
    "X[:,1]/=ms1\n",
    "X[:,2]/=ms2\n",
    "print('first 3 data:\\n', X[:3])"
   ]
  },
  {
   "cell_type": "markdown",
   "id": "front-fantasy",
   "metadata": {},
   "source": [
    "<b>training</b>"
   ]
  },
  {
   "cell_type": "code",
   "execution_count": 60,
   "id": "reasonable-naples",
   "metadata": {},
   "outputs": [],
   "source": [
    "w=np.zeros((X.shape[1], 1 ) )\n",
    "epochs=1000\n",
    "l=0.01\n",
    "\n",
    "m=X.shape[0] \n",
    "losses=[]\n",
    "for i in range(epochs): \n",
    "    yhat =X @ w\n",
    "    loss=np.mean( (yhat-y)**2 )\n",
    "    losses.append(loss)\n",
    "    dw= (X.T @ (yhat-y))/m\n",
    "    w=w-l*dw "
   ]
  },
  {
   "cell_type": "code",
   "execution_count": 61,
   "id": "forced-belize",
   "metadata": {},
   "outputs": [
    {
     "data": {
      "text/plain": [
       "Text(0.5, 1.0, 'loss vs epoch')"
      ]
     },
     "execution_count": 61,
     "metadata": {},
     "output_type": "execute_result"
    },
    {
     "data": {
      "image/png": "[encoded data removed]",
      "text/plain": [
       "<Figure size 432x288 with 1 Axes>"
      ]
     },
     "metadata": {
      "needs_background": "light"
     },
     "output_type": "display_data"
    }
   ],
   "source": [
    "plt.plot(losses)\n",
    "plt.title('loss vs epoch')"
   ]
  },
  {
   "cell_type": "code",
   "execution_count": 62,
   "id": "decimal-facility",
   "metadata": {},
   "outputs": [
    {
     "name": "stdout",
     "output_type": "stream",
     "text": [
      "w: [[168406.54065614]\n",
      " [197310.26372808]\n",
      " [138326.92516515]]\n"
     ]
    }
   ],
   "source": [
    "print('w:',w)"
   ]
  },
  {
   "cell_type": "markdown",
   "id": "suburban-surveillance",
   "metadata": {},
   "source": [
    "<b>Testing on new data</b> <br/>\n",
    "Note: we need to do same feature scaling as done for training data"
   ]
  },
  {
   "cell_type": "code",
   "execution_count": 63,
   "id": "beautiful-treasure",
   "metadata": {},
   "outputs": [
    {
     "data": {
      "text/plain": [
       "array([[1.        , 0.46985261, 0.6       ]])"
      ]
     },
     "execution_count": 63,
     "metadata": {},
     "output_type": "execute_result"
    }
   ],
   "source": [
    "tx=np.array([ [1.000e+00, 2.104e+03/ms1, 3.000e+00/ms2] ])\n",
    "tx"
   ]
  },
  {
   "cell_type": "code",
   "execution_count": 64,
   "id": "funny-smooth",
   "metadata": {},
   "outputs": [
    {
     "name": "stdout",
     "output_type": "stream",
     "text": [
      "344109.4386949068\n"
     ]
    }
   ],
   "source": [
    "yh=np.dot(tx, w)\n",
    "print(yh[0][0])"
   ]
  },
  {
   "cell_type": "code",
   "execution_count": 65,
   "id": "civilian-fiction",
   "metadata": {},
   "outputs": [
    {
     "name": "stdout",
     "output_type": "stream",
     "text": [
      "test x: [1.         0.42161679 0.4       ]\n",
      "actual=255000.0 prediction=306926.631382899\n"
     ]
    }
   ],
   "source": [
    "ri=np.random.randint(X.shape[0]) #randomly choose any data from training\n",
    "tx=X[ri]\n",
    "print('test x:', tx)\n",
    "yh=np.dot(tx, w)\n",
    "print(f'actual={y[ri][0]} prediction={yh[0]}')"
   ]
  },
  {
   "cell_type": "code",
   "execution_count": null,
   "id": "personal-alarm",
   "metadata": {},
   "outputs": [],
   "source": []
  },
  {
   "cell_type": "markdown",
   "id": "little-button",
   "metadata": {},
   "source": [
    "<b>Scikitlearn test</b>"
   ]
  },
  {
   "cell_type": "code",
   "execution_count": 66,
   "id": "sitting-composite",
   "metadata": {},
   "outputs": [],
   "source": [
    "from sklearn.linear_model import LinearRegression"
   ]
  },
  {
   "cell_type": "code",
   "execution_count": 75,
   "id": "beneficial-share",
   "metadata": {},
   "outputs": [
    {
     "data": {
      "text/plain": [
       "0.7329450180289142"
      ]
     },
     "execution_count": 75,
     "metadata": {},
     "output_type": "execute_result"
    }
   ],
   "source": [
    "X=X[:,1:] #we don't need the first column (added 1)\n",
    "reg = LinearRegression().fit(X, y)\n",
    "reg.score(X, y)"
   ]
  },
  {
   "cell_type": "code",
   "execution_count": 76,
   "id": "rapid-southeast",
   "metadata": {},
   "outputs": [
    {
     "name": "stdout",
     "output_type": "stream",
     "text": [
      "w: [[623385.39825093 -43690.09556164]]\n",
      "b: [89597.9095428]\n"
     ]
    }
   ],
   "source": [
    "print('w:', reg.coef_)\n",
    "print('b:', reg.intercept_)"
   ]
  },
  {
   "cell_type": "code",
   "execution_count": null,
   "id": "corrected-south",
   "metadata": {},
   "outputs": [],
   "source": []
  },
  {
   "cell_type": "code",
   "execution_count": 85,
   "id": "terminal-given",
   "metadata": {},
   "outputs": [
    {
     "name": "stdout",
     "output_type": "stream",
     "text": [
      "test x: [[0.42161679 0.4       ]]\n",
      "actual=[255000.] prediction=[[334951.62386342]]\n"
     ]
    }
   ],
   "source": [
    "#test on the same data\n",
    "tx=np.array([X[ri]] )\n",
    "print('test x:', tx)\n",
    "yh=reg.predict(tx)\n",
    "print(f'actual={y[ri] } prediction={yh}')"
   ]
  },
  {
   "cell_type": "code",
   "execution_count": null,
   "id": "industrial-thumb",
   "metadata": {},
   "outputs": [],
   "source": []
  },
  {
   "cell_type": "code",
   "execution_count": null,
   "id": "emotional-cross",
   "metadata": {},
   "outputs": [],
   "source": []
  }
 ],
 "metadata": {
  "kernelspec": {
   "display_name": "Python 3",
   "language": "python",
   "name": "python3"
  },
  "language_info": {
   "codemirror_mode": {
    "name": "ipython",
    "version": 3
   },
   "file_extension": ".py",
   "mimetype": "text/x-python",
   "name": "python",
   "nbconvert_exporter": "python",
   "pygments_lexer": "ipython3",
   "version": "3.8.5"
  }
 },
 "nbformat": 4,
 "nbformat_minor": 5
}
