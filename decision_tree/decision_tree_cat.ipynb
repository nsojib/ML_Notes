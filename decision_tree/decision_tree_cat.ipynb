{
 "cells": [
  {
   "cell_type": "code",
   "execution_count": 12,
   "id": "unable-wisconsin",
   "metadata": {},
   "outputs": [],
   "source": [
    "import numpy as np\n",
    "import matplotlib.pyplot as plt\n",
    "from math import log \n",
    "from pprint import pprint"
   ]
  },
  {
   "cell_type": "markdown",
   "id": "forty-jersey",
   "metadata": {},
   "source": [
    "Note: a branch with entropy=0 is a leaf node <br/>\n",
    "a branch with entropy>0 require splitting."
   ]
  },
  {
   "cell_type": "markdown",
   "id": "flush-mechanism",
   "metadata": {},
   "source": [
    "### Equations\n",
    "\n",
    "$Entropy(s)=\\sum_i p(c_i) log_2( p(c_i) )$ <br/>\n",
    "$information \\space gain =Entropy(parent) - \\sum_i p(child) * Entropy(child) $ <br/>\n",
    "\n",
    "$Gini=1-\\sum_i p(c_i)^2$"
   ]
  },
  {
   "cell_type": "markdown",
   "id": "naked-style",
   "metadata": {},
   "source": [
    "There are two classes (yes, no) <br/>\n",
    "\n",
    "$P(yes)=number\\_of\\_yes/total\\_data$ <br/>\n",
    "$P(no)=number\\_of\\_no/total\\_data$ <br/>\n",
    "$Entropy(s)=\\sum_i p(class_i) log_2( p(class_i) ) =P(yes)*log_2 (P(yes) ) + P(no)*log_2(P(no))$ <br/>"
   ]
  },
  {
   "cell_type": "markdown",
   "id": "adaptive-cache",
   "metadata": {},
   "source": [
    "$information \\space gain =Entropy(parent) - \\sum_{group}  p(group) * Entropy(group) $ <br/>"
   ]
  },
  {
   "cell_type": "code",
   "execution_count": 13,
   "id": "future-feeling",
   "metadata": {},
   "outputs": [
    {
     "name": "stdout",
     "output_type": "stream",
     "text": [
      "[['Rain' 'Hot' 'High' 'Weak' 'No']\n",
      " ['Rain' 'Hot' 'High' 'Strong' 'No']\n",
      " ['Overcast' 'Hot' 'High' 'Weak' 'Yes']\n",
      " ['Sunny' 'Mild' 'High' 'Weak' 'Yes']\n",
      " ['Sunny' 'Cool' 'Normal' 'Weak' 'Yes']\n",
      " ['Sunny' 'Cool' 'Normal' 'Strong' 'No']\n",
      " ['Overcast' 'Cool' 'Normal' 'Strong' 'Yes']\n",
      " ['Rain' 'Mild' 'High' 'Weak' 'No']\n",
      " ['Rain' 'Cool' 'Normal' 'Weak' 'Yes']\n",
      " ['Sunny' 'Mild' 'Normal' 'Weak' 'Yes']\n",
      " ['Rain' 'Mild' 'Normal' 'Strong' 'Yes']\n",
      " ['Overcast' 'Mild' 'High' 'Strong' 'Yes']\n",
      " ['Overcast' 'Hot' 'Normal' 'Weak' 'Yes']\n",
      " ['Sunny' 'Mild' 'High' 'Strong' 'No']]\n"
     ]
    }
   ],
   "source": [
    "#weather, temperature, humidity, wind, play\n",
    "data= [\n",
    "    ['Rain', 'Hot', 'High', 'Weak', 'No'], \n",
    "    ['Rain', 'Hot', 'High', 'Strong', 'No'], \n",
    "    ['Overcast', 'Hot', 'High', 'Weak', 'Yes'],\n",
    "    ['Sunny', 'Mild', 'High', 'Weak', 'Yes'],\n",
    "    ['Sunny', 'Cool', 'Normal', 'Weak', 'Yes'],\n",
    "    ['Sunny', 'Cool', 'Normal', 'Strong', 'No'],\n",
    "    ['Overcast', 'Cool', 'Normal', 'Strong', 'Yes'],\n",
    "    ['Rain', 'Mild', 'High', 'Weak', 'No'],\n",
    "    ['Rain', 'Cool', 'Normal', 'Weak', 'Yes'],\n",
    "    ['Sunny', 'Mild', 'Normal', 'Weak', 'Yes'],\n",
    "    ['Rain', 'Mild', 'Normal', 'Strong', 'Yes'],\n",
    "    ['Overcast', 'Mild', 'High', 'Strong', 'Yes'],\n",
    "    ['Overcast', 'Hot', 'Normal', 'Weak', 'Yes'],\n",
    "    ['Sunny', 'Mild', 'High', 'Strong', 'No'],\n",
    "]\n",
    "\n",
    "#print the data using pretty print (pprint)\n",
    "data=np.array(data)\n",
    "print(data)"
   ]
  },
  {
   "cell_type": "code",
   "execution_count": 14,
   "id": "japanese-bolivia",
   "metadata": {},
   "outputs": [],
   "source": [
    "def count_class_freq(data):\n",
    "    \"\"\"\n",
    "    data: rows (last column is the lebel) \n",
    "    return: dictionary\n",
    "    \"\"\"\n",
    "    classes={} #dictionary\n",
    "    #your code start\n",
    "    \n",
    "    for row in data:\n",
    "        c=row[-1]\n",
    "        if c not in classes:\n",
    "            classes[c]=1\n",
    "        else:\n",
    "            classes[c]+=1\n",
    "            \n",
    "    #your code end\n",
    "    return classes"
   ]
  },
  {
   "cell_type": "code",
   "execution_count": 15,
   "id": "tamil-huntington",
   "metadata": {},
   "outputs": [],
   "source": [
    "def entropy(data):\n",
    "    \"\"\"\n",
    "    data: rows (last column is the lebel)\n",
    "    \"\"\"\n",
    "    classes=count_class_freq(data) #count classes \n",
    "    \n",
    "    impurity = 0\n",
    "    #your code start\n",
    "    classes=count_class_freq(data)\n",
    "    \n",
    "    for c in classes:\n",
    "        prob_of_c = classes[c] / float(len(data))\n",
    "        impurity -= prob_of_c*  log(prob_of_c, 2)  #2 base log.\n",
    "    #your code end\n",
    "    return impurity"
   ]
  },
  {
   "cell_type": "code",
   "execution_count": 16,
   "id": "retained-holder",
   "metadata": {},
   "outputs": [],
   "source": [
    "def split_cat_data(data, col_id):\n",
    "    \"\"\"\n",
    "    data: rows (last column is the lebel)\n",
    "    Note: features (column) contains categorical value (like High, Medium, Low)\n",
    "    \n",
    "    col_id: column index\n",
    "    \n",
    "    return: dictionary\n",
    "    \"\"\"\n",
    "    groups={} #key=category, value=part of the data\n",
    "    \n",
    "    #your code start\n",
    "    for row in data:\n",
    "        cv=row[col_id]\n",
    "        if cv in groups:\n",
    "            groups[cv].append(row)\n",
    "        else:\n",
    "            groups[cv]=[row]\n",
    "    \n",
    "    #your code end\n",
    "    for key in groups:\n",
    "        groups[key]=np.array(groups[key])  #converting to numpy array\n",
    "    \n",
    "    \n",
    "    return groups"
   ]
  },
  {
   "cell_type": "code",
   "execution_count": 17,
   "id": "celtic-title",
   "metadata": {},
   "outputs": [],
   "source": [
    "def group_probability(groups):\n",
    "    \"\"\"\n",
    "    groups: all the groups\n",
    "    return: dictionary\n",
    "    \"\"\"\n",
    "    gp={} #dictionary\n",
    "    #your code start\n",
    "    nr=0\n",
    "    for groupname,rows in groups.items():\n",
    "        nr+=len(rows)\n",
    "        \n",
    "    for groupname, group in groups.items():\n",
    "        gp[groupname]=len(group)/nr\n",
    "            \n",
    "    #your code end\n",
    "    return gp"
   ]
  },
  {
   "cell_type": "code",
   "execution_count": 18,
   "id": "wicked-delay",
   "metadata": {},
   "outputs": [],
   "source": [
    "def information_gain(groups, parent_entropy): \n",
    "    \"\"\"\n",
    "    groups: a dictionary\n",
    "    parent_entropy: a float value\n",
    "    return: information_gain\n",
    "    \"\"\"\n",
    "    \n",
    "    groups_entropy=0\n",
    "    gp=group_probability(groups) #claculate probability for each group.\n",
    "    \n",
    "    #your code start\n",
    "    \n",
    "    for groupnam, rows in groups.items():\n",
    "        group_entropy=entropy(rows) \n",
    "        weighted_entropy= gp[groupnam]*group_entropy\n",
    "        groups_entropy+=weighted_entropy\n",
    "    \n",
    "    #your code start\n",
    "    \n",
    "    return parent_entropy - groups_entropy"
   ]
  },
  {
   "cell_type": "code",
   "execution_count": 19,
   "id": "presidential-labor",
   "metadata": {},
   "outputs": [],
   "source": [
    "def get_best_split_cat_column(data):\n",
    "    \"\"\"\n",
    "    data: numpy array (last column is the lebels)\n",
    "    return: information_gain\n",
    "    \"\"\"\n",
    "    \n",
    "    num_features=data.shape[1]-1\n",
    "    et=entropy(data)\n",
    "    best_id=0\n",
    "    best_ig=0\n",
    "    for i in range(num_features):\n",
    "        groups=split_cat_data(data, i)\n",
    "        ig=information_gain(groups, et)\n",
    "        if ig>best_ig:\n",
    "            best_ig=ig\n",
    "            best_id=i\n",
    "            \n",
    "    return best_id, best_ig"
   ]
  },
  {
   "cell_type": "code",
   "execution_count": 20,
   "id": "mature-webmaster",
   "metadata": {},
   "outputs": [],
   "source": [
    "def build_tree_cat(data):\n",
    "    \"\"\"\n",
    "    build decision tree for categorical data\n",
    "    we will build the tree recursively.\n",
    "    \n",
    "    data: numpy array (last column contains the labels)\n",
    "    expand each decision node until all are leaf\n",
    "    decision tree consists of decision node and leaf node\n",
    "    for each decision node, we will add a subtree {}\n",
    "    for each leaf node, we will stoer a list []\n",
    "    \"\"\"\n",
    "    tree={}\n",
    "    best_id, best_ig=get_best_split_cat_column(data)\n",
    "    if best_ig==0: #this is a leaf node.\n",
    "        return [data[0][-1]]  #return the label.\n",
    "    \n",
    "    groups=split_cat_data(data, best_id)\n",
    "    subtrees={}\n",
    "#     tree['col']=best_id\n",
    "    nodename='category?'\n",
    "    nodename='col_'+str(best_id)+'?'\n",
    "    for groupname in groups:\n",
    "        group= groups[groupname]\n",
    "        subtree=build_tree_cat( group)\n",
    "        subtrees[groupname]=subtree\n",
    "    \n",
    "    tree[nodename]=subtrees\n",
    "    \n",
    "    return tree"
   ]
  },
  {
   "cell_type": "code",
   "execution_count": 21,
   "id": "alone-grounds",
   "metadata": {},
   "outputs": [
    {
     "name": "stdout",
     "output_type": "stream",
     "text": [
      "{'col_0?': {'Overcast': ['Yes'],\n",
      "            'Rain': {'col_2?': {'High': ['No'], 'Normal': ['Yes']}},\n",
      "            'Sunny': {'col_3?': {'Strong': ['No'], 'Weak': ['Yes']}}}}\n"
     ]
    }
   ],
   "source": [
    "tree=build_tree_cat(data)\n",
    "pprint(tree)"
   ]
  },
  {
   "cell_type": "markdown",
   "id": "developing-declaration",
   "metadata": {},
   "source": [
    "The decision tree should look like below <br/>\n",
    "\n",
    "                              col_0?\n",
    "                            /    |    \\\n",
    "                          /      |      \\\n",
    "                        /        |        \\\n",
    "                      /          |          \\\n",
    "                    /            |            \\\n",
    "                rainy          sunny         overcast\n",
    "                /                |                \\\n",
    "              /                  |                 \\\n",
    "           col_2?               col_3?              (yes)\n",
    "           /   \\                 / \\\n",
    "         /      \\              /     \\\n",
    "      Normal   High         Weak    Strong\n",
    "       /         \\           /         \\\n",
    "      /           \\         /            \\\n",
    "    (yes)         (no)    (yes)          (no)\n",
    "       "
   ]
  },
  {
   "cell_type": "markdown",
   "id": "partial-richmond",
   "metadata": {},
   "source": [
    "<b>Test on new data</b>"
   ]
  },
  {
   "cell_type": "code",
   "execution_count": 22,
   "id": "suspended-access",
   "metadata": {},
   "outputs": [],
   "source": [
    "def make_decision(tree, x):\n",
    "    \"\"\"\n",
    "    tree: decision tree\n",
    "    x: a new data (without label)\n",
    "    \n",
    "    return: decision\n",
    "    \"\"\"\n",
    "    decision=None\n",
    "    \n",
    "    key=list(tree.keys())[0]\n",
    "    col_id=int( key.split('_')[1].split('?')[0] ) \n",
    "    cat=x[col_id]\n",
    "    branch=tree[key][cat]\n",
    "    if isinstance(branch, dict): #this is another tree\n",
    "        return make_decision(branch, x)\n",
    "    \n",
    "    decision=branch[0]\n",
    "    \n",
    "    return decision"
   ]
  },
  {
   "cell_type": "code",
   "execution_count": 23,
   "id": "electronic-column",
   "metadata": {},
   "outputs": [
    {
     "name": "stdout",
     "output_type": "stream",
     "text": [
      "Yes\n"
     ]
    }
   ],
   "source": [
    "test_x=np.array( ['Rain', 'Mild', 'Normal', 'Weak'] )\n",
    "decision=make_decision(tree, test_x)\n",
    "print(decision)"
   ]
  },
  {
   "cell_type": "code",
   "execution_count": null,
   "id": "painful-reset",
   "metadata": {},
   "outputs": [],
   "source": []
  }
 ],
 "metadata": {
  "kernelspec": {
   "display_name": "Python 3",
   "language": "python",
   "name": "python3"
  },
  "language_info": {
   "codemirror_mode": {
    "name": "ipython",
    "version": 3
   },
   "file_extension": ".py",
   "mimetype": "text/x-python",
   "name": "python",
   "nbconvert_exporter": "python",
   "pygments_lexer": "ipython3",
   "version": "3.8.5"
  }
 },
 "nbformat": 4,
 "nbformat_minor": 5
}
