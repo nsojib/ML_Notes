{
 "cells": [
  {
   "cell_type": "code",
   "execution_count": 1,
   "id": "unable-wisconsin",
   "metadata": {},
   "outputs": [],
   "source": [
    "import numpy as np\n",
    "import matplotlib.pyplot as plt\n",
    "from math import log \n",
    "from pprint import pprint"
   ]
  },
  {
   "cell_type": "code",
   "execution_count": 2,
   "id": "determined-hamburg",
   "metadata": {},
   "outputs": [
    {
     "name": "stdout",
     "output_type": "stream",
     "text": [
      "X shape: (15, 2)\n",
      "y shape: (15, 1)\n",
      "[[-1.5  3.5]\n",
      " [-2.   2. ]\n",
      " [ 3.   0. ]\n",
      " [ 4.   0. ]\n",
      " [-1.   3. ]\n",
      " [ 1.   5. ]\n",
      " [ 1.   4. ]\n",
      " [ 3.   1. ]\n",
      " [-2.   3. ]\n",
      " [ 2.   5. ]\n",
      " [ 1.5  4.5]\n",
      " [-1.   4. ]\n",
      " [ 3.   2. ]\n",
      " [ 2.   1. ]\n",
      " [ 2.   4. ]]\n"
     ]
    },
    {
     "data": {
      "image/png": "[encoded data removed]",
      "text/plain": [
       "<Figure size 432x288 with 1 Axes>"
      ]
     },
     "metadata": {
      "needs_background": "light"
     },
     "output_type": "display_data"
    }
   ],
   "source": [
    "X=np.array([  [-1.5,  3.5],  [-2,  2],   [ 3,  0],  [ 4,  0], [-1,  3],  [ 1,  5], [ 1,  4],  [ 3,  1],  [-2,  3],\n",
    "       [ 2,  5],  [ 1.5,  4.5], [ -1,  4],  [ 3,  2],  [ 2,  1],  [ 2,  4]])\n",
    "\n",
    "y=np.array([2, 2, 1, 1, 2, 0, 0, 1, 2, 0, 0, 2, 1, 1, 0])\n",
    "y=y.reshape(-1, 1)\n",
    "plt.scatter(X[:,0], X[:,1], c=y)\n",
    "print('X shape:', X.shape)\n",
    "print('y shape:', y.shape)\n",
    "print(X)"
   ]
  },
  {
   "cell_type": "code",
   "execution_count": 3,
   "id": "thermal-smoke",
   "metadata": {},
   "outputs": [
    {
     "data": {
      "text/plain": [
       "array([[-1.5,  3.5,  2. ],\n",
       "       [-2. ,  2. ,  2. ],\n",
       "       [ 3. ,  0. ,  1. ]])"
      ]
     },
     "execution_count": 3,
     "metadata": {},
     "output_type": "execute_result"
    }
   ],
   "source": [
    "#adding labels in the last column\n",
    "data=np.hstack((X, y.reshape(-1,1)))\n",
    "data[:3] #print first 3 data"
   ]
  },
  {
   "cell_type": "code",
   "execution_count": 4,
   "id": "japanese-bolivia",
   "metadata": {},
   "outputs": [],
   "source": [
    "def count_class_freq(data):\n",
    "    \"\"\"\n",
    "    data: rows (last column is the lebel) \n",
    "    return: dictionary\n",
    "    \"\"\"\n",
    "    classes={} #dictionary\n",
    "    #your code start\n",
    "    \n",
    "    for row in data:\n",
    "        c=row[-1]\n",
    "        if c not in classes:\n",
    "            classes[c]=1\n",
    "        else:\n",
    "            classes[c]+=1\n",
    "            \n",
    "    #your code end\n",
    "    return classes"
   ]
  },
  {
   "cell_type": "code",
   "execution_count": 5,
   "id": "tamil-huntington",
   "metadata": {},
   "outputs": [],
   "source": [
    "def entropy(data):\n",
    "    \"\"\"\n",
    "    data: rows (last column is the lebel)\n",
    "    \"\"\"\n",
    "    classes=count_class_freq(data) #count classes \n",
    "    \n",
    "    impurity = 0\n",
    "    #your code start\n",
    "    classes=count_class_freq(data)\n",
    "    \n",
    "    for c in classes:\n",
    "        prob_of_c = classes[c] / float(len(data))\n",
    "        impurity -= prob_of_c*  log(prob_of_c, 2)  #2 base log.\n",
    "    #your code end\n",
    "    return impurity"
   ]
  },
  {
   "cell_type": "code",
   "execution_count": 6,
   "id": "retained-holder",
   "metadata": {},
   "outputs": [],
   "source": [
    "def split_num_data(data, col_id, threshold):\n",
    "    \"\"\"\n",
    "    data: rows (last column is the lebel)\n",
    "    Note: features (column) contains categorical value (like High, Medium, Low)\n",
    "    \n",
    "    col_id: column index\n",
    "    \n",
    "    return: dictionary\n",
    "    \"\"\"\n",
    "    groups={'left':[], 'right':[]}\n",
    "    for row in data:\n",
    "    #     print(row)\n",
    "        v=row[col_id]\n",
    "    #     print(v)\n",
    "        if v<=threshold:\n",
    "            groups['left'].append(row)\n",
    "        else:\n",
    "            groups['right'].append(row)\n",
    "    \n",
    "    #convert to numpy array\n",
    "    groups['left']=np.array(groups['left'])\n",
    "    groups['right']=np.array(groups['right'])\n",
    "    \n",
    "    return groups"
   ]
  },
  {
   "cell_type": "code",
   "execution_count": 7,
   "id": "celtic-title",
   "metadata": {},
   "outputs": [],
   "source": [
    "def group_probability(groups):\n",
    "    \"\"\"\n",
    "    groups: all the groups\n",
    "    return: dictionary\n",
    "    \"\"\"\n",
    "    gp={} #dictionary\n",
    "    #your code start\n",
    "    nr=0\n",
    "    for groupname,rows in groups.items():\n",
    "        nr+=len(rows)\n",
    "        \n",
    "    for groupname, group in groups.items():\n",
    "        gp[groupname]=len(group)/nr\n",
    "            \n",
    "    #your code end\n",
    "    return gp"
   ]
  },
  {
   "cell_type": "code",
   "execution_count": 8,
   "id": "wicked-delay",
   "metadata": {},
   "outputs": [],
   "source": [
    "def information_gain(groups, parent_entropy): \n",
    "    \"\"\"\n",
    "    groups: a dictionary\n",
    "    parent_entropy: a float value\n",
    "    return: information_gain\n",
    "    \"\"\"\n",
    "    \n",
    "    groups_entropy=0\n",
    "    gp=group_probability(groups) #claculate probability for each group.\n",
    "    \n",
    "    #your code start\n",
    "    \n",
    "    for groupnam, rows in groups.items():\n",
    "        group_entropy=entropy(rows) \n",
    "        weighted_entropy= gp[groupnam]*group_entropy\n",
    "        groups_entropy+=weighted_entropy\n",
    "    \n",
    "    #your code start\n",
    "    \n",
    "    return parent_entropy - groups_entropy"
   ]
  },
  {
   "cell_type": "code",
   "execution_count": 9,
   "id": "presidential-labor",
   "metadata": {},
   "outputs": [],
   "source": [
    "def get_best_split(data):\n",
    "    \"\"\"\n",
    "    data: numpy array (last column is the lebels)\n",
    "    return: best_col, best_th, best_ig\n",
    "    \"\"\"\n",
    "    \n",
    "    num_features=data.shape[1]-1\n",
    "    num_row=data.shape[0]\n",
    "    \n",
    "    parent_et=entropy(data)\n",
    "    \n",
    "    best_col=0\n",
    "    best_th=0\n",
    "    best_ig=0\n",
    "    \n",
    "    for col_i in range(num_features):\n",
    "        for row_i in range ( num_row ):\n",
    "            threshold=data[row_i][col_i]\n",
    "            groups=split_num_data(data, col_i, threshold) \n",
    "            ig=information_gain(groups, parent_et)\n",
    "            if ig>best_ig:\n",
    "                best_ig=ig\n",
    "                best_col=col_i\n",
    "                best_th=threshold\n",
    "            \n",
    "    return best_col, best_th, best_ig"
   ]
  },
  {
   "cell_type": "code",
   "execution_count": 10,
   "id": "mature-webmaster",
   "metadata": {},
   "outputs": [],
   "source": [
    "def build_tree_num(data):\n",
    "    \"\"\"\n",
    "    build decision tree for numerical data\n",
    "    we will build the tree recursively.\n",
    "    \n",
    "    data: numpy array (last column contains the labels)\n",
    "    expand each decision node until all are leaf\n",
    "    decision tree consists of decision node and leaf node\n",
    "    for each decision node, we will add a subtree {}\n",
    "    for each leaf node, we will stoer a list []\n",
    "    \"\"\"\n",
    "    tree={}\n",
    "    best_col, best_th, best_ig=get_best_split(data)\n",
    "    if best_ig==0: #this is a leaf node.\n",
    "        return [data[0][-1]]  #return the label.\n",
    "    \n",
    "    groups=split_num_data(data, best_col, best_th)\n",
    "    subtrees={}  \n",
    "    nodename='col_'+str(best_col)+', val<='+str(best_th)+'?'\n",
    "    for groupname in groups: \n",
    "        group= groups[groupname] \n",
    "        subtree=build_tree_num( group)\n",
    "        \n",
    "        groupname='yes' if groupname=='left' else 'no'  #convert to more understandable names\n",
    "        \n",
    "        subtrees[groupname]=subtree\n",
    "    \n",
    "    tree[nodename]=subtrees\n",
    "    \n",
    "    return tree"
   ]
  },
  {
   "cell_type": "code",
   "execution_count": 11,
   "id": "alone-grounds",
   "metadata": {},
   "outputs": [
    {
     "name": "stdout",
     "output_type": "stream",
     "text": [
      "{'col_0, val<=-1.0?': {'no': {'col_1, val<=2.0?': {'no': [0.0], 'yes': [1.0]}},\n",
      "                       'yes': [2.0]}}\n"
     ]
    }
   ],
   "source": [
    "tree=build_tree_num(data)\n",
    "pprint(tree)"
   ]
  },
  {
   "cell_type": "markdown",
   "id": "developing-declaration",
   "metadata": {},
   "source": [
    "The decision tree should look like below <br/>\n",
    "\n",
    "               col_0, val<=-1.0?\n",
    "                   /   \\\n",
    "                  /     \\\n",
    "                yes      no\n",
    "                /         \\\n",
    "               /           \\\n",
    "           (2.0)      col_1, val<=2.0?\n",
    "                          /  \\\n",
    "                         /    \\\n",
    "                       yes    no\n",
    "                       /        \\\n",
    "                      /          \\\n",
    "                   (1.0)        (0.0)"
   ]
  },
  {
   "cell_type": "markdown",
   "id": "partial-richmond",
   "metadata": {},
   "source": [
    "<b>Test on new data</b>"
   ]
  },
  {
   "cell_type": "code",
   "execution_count": 12,
   "id": "suspended-access",
   "metadata": {},
   "outputs": [],
   "source": [
    "def make_decision_num(tree, x):\n",
    "    \"\"\"\n",
    "    tree: decision tree\n",
    "    x: a new data (without label)\n",
    "    \n",
    "    return: decision\n",
    "    \"\"\"\n",
    "    decision=None\n",
    "    \n",
    "    key=list(tree.keys())[0]\n",
    "    col_id=int( key.split(',')[0].split('_')[1]) \n",
    "    threshold=float( key.split(',')[1].split('<=')[1][:-1] )\n",
    "     \n",
    "    side='yes' if  x[col_id]<=threshold else 'no'\n",
    "    branch=tree[key][side]\n",
    "    if isinstance(branch, dict): #this is another tree\n",
    "        return make_decision_num(branch, x)\n",
    "    \n",
    "    decision=int( branch[0] )\n",
    "    \n",
    "    return decision"
   ]
  },
  {
   "cell_type": "code",
   "execution_count": 13,
   "id": "electronic-column",
   "metadata": {},
   "outputs": [
    {
     "name": "stdout",
     "output_type": "stream",
     "text": [
      "0\n"
     ]
    }
   ],
   "source": [
    "test_x=np.array( [3.5, 3.5] )\n",
    "decision=make_decision_num(tree, test_x)\n",
    "print(decision)"
   ]
  },
  {
   "cell_type": "code",
   "execution_count": 14,
   "id": "strategic-leave",
   "metadata": {},
   "outputs": [
    {
     "name": "stdout",
     "output_type": "stream",
     "text": [
      "1\n"
     ]
    }
   ],
   "source": [
    "test_x=np.array( [3.5, 1.5] )\n",
    "decision=make_decision_num(tree, test_x)\n",
    "print(decision)"
   ]
  },
  {
   "cell_type": "code",
   "execution_count": null,
   "id": "fundamental-nigeria",
   "metadata": {},
   "outputs": [],
   "source": []
  },
  {
   "cell_type": "markdown",
   "id": "sustainable-progressive",
   "metadata": {},
   "source": [
    "### Test on Iris data"
   ]
  },
  {
   "cell_type": "code",
   "execution_count": 15,
   "id": "respiratory-festival",
   "metadata": {},
   "outputs": [],
   "source": [
    "from sklearn import datasets\n",
    "from sklearn.model_selection import train_test_split\n",
    "from sklearn.metrics import accuracy_score "
   ]
  },
  {
   "cell_type": "code",
   "execution_count": 16,
   "id": "stunning-strip",
   "metadata": {},
   "outputs": [],
   "source": [
    "iris =  datasets.load_iris() \n",
    "X = iris.data\n",
    "y = iris.target"
   ]
  },
  {
   "cell_type": "code",
   "execution_count": 17,
   "id": "viral-yorkshire",
   "metadata": {},
   "outputs": [
    {
     "name": "stdout",
     "output_type": "stream",
     "text": [
      "(120, 4) (30, 4)\n"
     ]
    }
   ],
   "source": [
    "xtrain,xtest,ytrain,ytest=train_test_split(X,y,test_size=0.2)\n",
    "print(xtrain.shape, xtest.shape)"
   ]
  },
  {
   "cell_type": "code",
   "execution_count": 18,
   "id": "tired-giant",
   "metadata": {},
   "outputs": [
    {
     "data": {
      "text/plain": [
       "array([[6.7, 3.1, 4.4, 1.4, 1. ],\n",
       "       [5.4, 3.9, 1.7, 0.4, 0. ],\n",
       "       [7.1, 3. , 5.9, 2.1, 2. ]])"
      ]
     },
     "execution_count": 18,
     "metadata": {},
     "output_type": "execute_result"
    }
   ],
   "source": [
    "data=np.hstack((xtrain, ytrain.reshape(-1,1)))\n",
    "data[:3] #print first 3 data"
   ]
  },
  {
   "cell_type": "code",
   "execution_count": 19,
   "id": "outer-specification",
   "metadata": {},
   "outputs": [
    {
     "name": "stdout",
     "output_type": "stream",
     "text": [
      "{'col_2, val<=1.9?': {'no': {'col_2, val<=4.8?': {'no': {'col_3, val<=1.7?': {'no': [2.0],\n",
      "                                                                              'yes': {'col_0, val<=6.3?': {'no': [1.0],\n",
      "                                                                                                           'yes': {'col_2, val<=4.9?': {'no': {'col_3, val<=1.5?': {'no': [1.0],\n",
      "                                                                                                                                                                    'yes': [2.0]}},\n",
      "                                                                                                                                        'yes': [1.0]}}}}}},\n",
      "                                                  'yes': {'col_0, val<=4.9?': {'no': [1.0],\n",
      "                                                                               'yes': {'col_1, val<=2.4?': {'no': [2.0],\n",
      "                                                                                                            'yes': [1.0]}}}}}},\n",
      "                      'yes': [0.0]}}\n"
     ]
    }
   ],
   "source": [
    "tree=build_tree_num(data)\n",
    "pprint(tree)"
   ]
  },
  {
   "cell_type": "code",
   "execution_count": 20,
   "id": "needed-motorcycle",
   "metadata": {},
   "outputs": [
    {
     "data": {
      "text/plain": [
       "array([5.7, 2.9, 4.2, 1.3])"
      ]
     },
     "execution_count": 20,
     "metadata": {},
     "output_type": "execute_result"
    }
   ],
   "source": [
    "xtest[0]"
   ]
  },
  {
   "cell_type": "code",
   "execution_count": 21,
   "id": "social-speed",
   "metadata": {},
   "outputs": [
    {
     "data": {
      "text/plain": [
       "1"
      ]
     },
     "execution_count": 21,
     "metadata": {},
     "output_type": "execute_result"
    }
   ],
   "source": [
    "make_decision_num(tree, xtest[0])"
   ]
  },
  {
   "cell_type": "code",
   "execution_count": 22,
   "id": "indian-norfolk",
   "metadata": {},
   "outputs": [
    {
     "name": "stdout",
     "output_type": "stream",
     "text": [
      "[1, 1, 1, 0, 0, 0, 0, 1, 0, 1, 1, 0, 2, 0, 2, 1, 1, 1, 1, 0, 2, 1, 2, 2, 0, 2, 0, 0, 2, 1]\n"
     ]
    }
   ],
   "source": [
    "pr=[ make_decision_num(tree, dt) for dt in xtest]\n",
    "print(pr)"
   ]
  },
  {
   "cell_type": "code",
   "execution_count": 24,
   "id": "daily-folder",
   "metadata": {},
   "outputs": [
    {
     "name": "stdout",
     "output_type": "stream",
     "text": [
      "testing accuracy: 90.0\n"
     ]
    }
   ],
   "source": [
    "acc=(ytest==pr).mean()*100\n",
    "print('testing accuracy:', acc)"
   ]
  },
  {
   "cell_type": "code",
   "execution_count": null,
   "id": "painful-reset",
   "metadata": {},
   "outputs": [],
   "source": []
  },
  {
   "cell_type": "markdown",
   "id": "pressed-breath",
   "metadata": {},
   "source": [
    "### scikit-learn"
   ]
  },
  {
   "cell_type": "code",
   "execution_count": 31,
   "id": "operating-manhattan",
   "metadata": {},
   "outputs": [],
   "source": [
    "from sklearn.tree import DecisionTreeClassifier"
   ]
  },
  {
   "cell_type": "code",
   "execution_count": 32,
   "id": "functioning-field",
   "metadata": {},
   "outputs": [
    {
     "data": {
      "text/plain": [
       "DecisionTreeClassifier(random_state=0)"
      ]
     },
     "execution_count": 32,
     "metadata": {},
     "output_type": "execute_result"
    }
   ],
   "source": [
    "clf = DecisionTreeClassifier(random_state=0)\n",
    "clf.fit(xtrain, ytrain)    "
   ]
  },
  {
   "cell_type": "code",
   "execution_count": 33,
   "id": "smoking-fault",
   "metadata": {},
   "outputs": [
    {
     "name": "stdout",
     "output_type": "stream",
     "text": [
      "testing accuracy: 90.0\n"
     ]
    }
   ],
   "source": [
    "yhat=clf.predict(xtest)\n",
    "acc=(ytest==yhat).mean()*100\n",
    "print('testing accuracy:', acc)"
   ]
  },
  {
   "cell_type": "code",
   "execution_count": null,
   "id": "worst-financing",
   "metadata": {},
   "outputs": [],
   "source": []
  }
 ],
 "metadata": {
  "kernelspec": {
   "display_name": "Python 3",
   "language": "python",
   "name": "python3"
  },
  "language_info": {
   "codemirror_mode": {
    "name": "ipython",
    "version": 3
   },
   "file_extension": ".py",
   "mimetype": "text/x-python",
   "name": "python",
   "nbconvert_exporter": "python",
   "pygments_lexer": "ipython3",
   "version": "3.8.5"
  }
 },
 "nbformat": 4,
 "nbformat_minor": 5
}
