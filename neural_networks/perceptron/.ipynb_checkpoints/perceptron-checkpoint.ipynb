{
 "cells": [
  {
   "cell_type": "markdown",
   "metadata": {},
   "source": [
    "### 2.1 Perceptron"
   ]
  },
  {
   "cell_type": "markdown",
   "metadata": {},
   "source": [
    "* Invented in <b>1958</b> at the Cornell Aeronautical Laboratory by Frank Rosenblatt  [1] \n",
    "* \"perceptron may eventually be able to learn, make decisions, and translate languages.\" <br>\n",
    "\n",
    "* Designed to be a machine instead of a program. First implemented in software for the IBM 704. A camera of 400 photosensor as input, as image recognition. Potentiometers were used as adjustable weights and value updated by turning using motors. (what an ingenious idea) [wiki]"
   ]
  },
  {
   "cell_type": "markdown",
   "metadata": {},
   "source": [
    "<table>\n",
    "  \n",
    "  <tr>\n",
    "    <td><img src=\"0925_rosenblatt_main.jpg\" width=400 > <br><center> Frank Rosenblat with the Perceptron machine. [1]</td>\n",
    "    <td><img src=\"perceptron_machine.png\"  height=300> <center>Figure_2: Perceptron machine. [2]</td> \n",
    "  </tr>\n",
    " </table>"
   ]
  },
  {
   "cell_type": "markdown",
   "metadata": {},
   "source": [
    "He was intrigued with the operation of the eye of a fly. Much of the processing which tells a fly to flee is done in its eye. The Perceptron, which resulted from this research, was built in hardware <br>\n",
    "\n",
    "https://medium.com/analytics-vidhya/brief-history-of-neural-networks-44c2bf72eec#:~:text=Although%20the%20study%20of%20the,neural%20network%20with%20electrical%20circuits."
   ]
  },
  {
   "cell_type": "markdown",
   "metadata": {},
   "source": [
    "### 2.2 Structure\n",
    "classical form: \n",
    "Can classify linearly seperable data.\n",
    "Only single neuron. \n",
    "\n",
    "<img src='perceptron2.png' width=60% > \n",
    "  \n",
    "caption='source: wikipedia'\n",
    "\n",
    "\\begin{equation}\n",
    "  y =\n",
    "  \\begin{cases}\n",
    "    1, &  \\sum_{i}^{m} w_i.x_i+b> 0  \\\\\n",
    "    0, & \\text{otherwise}\n",
    "  \\end{cases}\n",
    "\\end{equation}"
   ]
  },
  {
   "cell_type": "markdown",
   "metadata": {},
   "source": [
    "### 2.3 Training method (weight updates)\n",
    "\n",
    "\n",
    "1. choose random hyperplane, classify training data\n",
    "2. get the data missclassified\n",
    "3. pick one from the missclassified randomly, say rx, ry\n",
    "4. update hyperplane (weights, using update rule: w=w+eta \\* (rx \\* ry) , here, eta=learning rate )\n",
    "5. classify training data using this updated hyperplane\n",
    "5. repeate step 2-5 until all data are correctly classified"
   ]
  },
  {
   "cell_type": "markdown",
   "metadata": {},
   "source": [
    "Vector product intuition: think x and w as two vector. Now if missclassified we want to change the angle between them. \n",
    "To increase we subtract and to decrease we sum."
   ]
  },
  {
   "cell_type": "markdown",
   "metadata": {},
   "source": [
    "### XOR Problem\n",
    "* XOR problem:  In <b>1969</b>, Marvin Minsky and Seymour Papert showed in their book named \"Perceptron\" that it was impossible for these classes of network to learn an XOR function.\n",
    "* They believed this way multilayer perceptron will have the same limitation. Which is incorrect. \n",
    "https://news.cornell.edu/stories/2019/09/professors-perceptron-paved-way-ai-60-years-too-soon"
   ]
  },
  {
   "cell_type": "markdown",
   "metadata": {},
   "source": [
    "Minsky and Papert (1969)\n",
    "The version of Perceptron we use nowadays was introduced by Minsky and Papert in 1969. They bring a major improvement to the classic model: they introduced an activation function. "
   ]
  },
  {
   "cell_type": "markdown",
   "metadata": {},
   "source": [
    "### Perceptron Learning"
   ]
  },
  {
   "cell_type": "code",
   "execution_count": 1,
   "metadata": {},
   "outputs": [],
   "source": [
    "import numpy as np\n",
    "import matplotlib.pyplot as plt"
   ]
  },
  {
   "cell_type": "code",
   "execution_count": 2,
   "metadata": {},
   "outputs": [],
   "source": [
    "np.random.seed(88)"
   ]
  },
  {
   "cell_type": "code",
   "execution_count": 3,
   "metadata": {},
   "outputs": [],
   "source": [
    "X=np.array([[8, 7], [4, 10], [9, 7], [7, 10], [9, 6], [4, 8], [10, 10], [2, 7], [8, 3], [7, 5], [4, 4],  [4, 6], [1, 3], [2, 5]])\n",
    "y=np.array([1, 1, 1, 1, 1, 1, 1, -1, -1, -1, -1, -1, -1, -1])\n",
    " "
   ]
  },
  {
   "cell_type": "code",
   "execution_count": 4,
   "metadata": {},
   "outputs": [
    {
     "data": {
      "image/png": "[encoded data removed]",
      "text/plain": [
       "<Figure size 432x288 with 1 Axes>"
      ]
     },
     "metadata": {
      "needs_background": "light"
     },
     "output_type": "display_data"
    }
   ],
   "source": [
    "plt.scatter(X[:,0],X[:,1],marker='o', c=y) \n",
    "plt.show()"
   ]
  },
  {
   "cell_type": "code",
   "execution_count": 5,
   "metadata": {},
   "outputs": [
    {
     "name": "stdout",
     "output_type": "stream",
     "text": [
      "[[ 1.  8.  7.]\n",
      " [ 1.  4. 10.]\n",
      " [ 1.  9.  7.]\n",
      " [ 1.  7. 10.]\n",
      " [ 1.  9.  6.]\n",
      " [ 1.  4.  8.]\n",
      " [ 1. 10. 10.]\n",
      " [ 1.  2.  7.]\n",
      " [ 1.  8.  3.]\n",
      " [ 1.  7.  5.]\n",
      " [ 1.  4.  4.]\n",
      " [ 1.  4.  6.]\n",
      " [ 1.  1.  3.]\n",
      " [ 1.  2.  5.]]\n"
     ]
    }
   ],
   "source": [
    "X= np.c_[np.ones(X.shape[0]), X]  #add column with value 1 in the first column. reqire no additional bias.\n",
    "print(X)"
   ]
  },
  {
   "cell_type": "markdown",
   "metadata": {},
   "source": [
    "#### Hypothesis <br>\n",
    "We have two class {+1, -1}. we need a function that predict either of the class for following criteria, <br>\n",
    "h(x<sub>i</sub>)=+1 for w.x<sub>i</sub>>0 <br>\n",
    "h(x<sub>i</sub>=-1 for w.x<sub>i</sub><0  <br>\n",
    "\n",
    "we can calculate this nature using sign (or signum, not sin) function. which looks like the following\n",
    "\n",
    "h(x<sub>i</sub>)=sign(w.x<sub>i</sub>)\n",
    "<!-- <img src='signum.png' width=15%> -->"
   ]
  },
  {
   "cell_type": "markdown",
   "metadata": {},
   "source": [
    "#### Perceptron\n",
    "<img src='perceptron.png' width=40%>\n",
    "The figure above looks like a neuron."
   ]
  },
  {
   "cell_type": "code",
   "execution_count": 25,
   "metadata": {},
   "outputs": [
    {
     "name": "stdout",
     "output_type": "stream",
     "text": [
      "_all_classified_ at  142\n",
      "[-37.79183673   2.74983616   3.60798743]\n"
     ]
    }
   ],
   "source": [
    "w = np.random.rand(3)    #1x3 \n",
    "Z=np.dot(X,w.T)         #nX3 dot 1x3\n",
    "py=[1 if iz>0 else -1 for iz in Z]   #signum\n",
    "miss=np.where(py!=y)[0]              #missclassified indexes\n",
    " \n",
    "eta=1\n",
    "epoch=500\n",
    "losses=[]\n",
    "for i in range(epoch):\n",
    "    if len(miss)==0: #all data are classified.\n",
    "        print('_all_classified_ at ',i)\n",
    "        break\n",
    "    rnd=np.random.choice(miss)\n",
    "    rx=X[rnd]\n",
    "    ry=y[rnd]\n",
    "    w=w+eta*rx*ry\n",
    "        \n",
    "    Z=np.dot(X,w.T)         #nX3 dot 1x3\n",
    "    py=[1 if iz>0 else -1 for iz in Z]  #signum\n",
    "    miss=np.where(py!=y)[0] #missclassified indexes\n",
    "    loss=np.sum( (y-Z)**2 )/X.shape[0]\n",
    "    losses.append(loss)\n",
    "                     \n",
    "print(w)"
   ]
  },
  {
   "cell_type": "code",
   "execution_count": 26,
   "metadata": {},
   "outputs": [
    {
     "data": {
      "text/plain": [
       "[<matplotlib.lines.Line2D at 0x16a617b7730>]"
      ]
     },
     "execution_count": 26,
     "metadata": {},
     "output_type": "execute_result"
    },
    {
     "data": {
      "image/png": "[encoded data removed]",
      "text/plain": [
       "<Figure size 432x288 with 1 Axes>"
      ]
     },
     "metadata": {
      "needs_background": "light"
     },
     "output_type": "display_data"
    }
   ],
   "source": [
    "plt.plot(losses)"
   ]
  },
  {
   "cell_type": "markdown",
   "metadata": {},
   "source": [
    "#### Plotting the hyperplane.\n",
    "hyperplane equation: ax<sub>1</sub>+bx<sub>2</sub>+c=0 (0 means hyperplane goes between two class -1 and 1) <br>\n",
    "setting, x<sub>1</sub>=0, x<sub>2</sub>= -c/b <br>\n",
    "setting, x<sub>2</sub>=0, x<sub>1</sub>= -c/a  <br>\n",
    "so, hyperplane_x<sub>1</sub>=[0, -c/a] <br>\n",
    "    hyperplane_x<sub>2</sub>=[-c/b, 0]"
   ]
  },
  {
   "cell_type": "code",
   "execution_count": 27,
   "metadata": {},
   "outputs": [
    {
     "name": "stdout",
     "output_type": "stream",
     "text": [
      "[0, 13.743304876892063]\n",
      "[10.474492351414325, 0]\n"
     ]
    }
   ],
   "source": [
    "#calculating decision boundary line.\n",
    "#from ax+by+c=0, setting x=0 and y=0 we get.\n",
    "px=[0, -w[0]/w[1] ] #x=0, and x=value for y=0\n",
    "print(px)\n",
    "px2=[ -w[0]/w[2], 0 ] #y= value for x=0, 0\n",
    "print(px2)"
   ]
  },
  {
   "cell_type": "code",
   "execution_count": 28,
   "metadata": {},
   "outputs": [
    {
     "data": {
      "image/png": "[encoded data removed]",
      "text/plain": [
       "<Figure size 432x288 with 1 Axes>"
      ]
     },
     "metadata": {
      "needs_background": "light"
     },
     "output_type": "display_data"
    }
   ],
   "source": [
    "plt.scatter(X[:,1],X[:, 2],marker='o', c=y)  \n",
    "plt.plot(px, px2 )  \n",
    "plt.show()"
   ]
  },
  {
   "cell_type": "markdown",
   "metadata": {},
   "source": [
    "<b>Bias tune</b>"
   ]
  },
  {
   "cell_type": "code",
   "execution_count": 33,
   "metadata": {},
   "outputs": [
    {
     "name": "stdout",
     "output_type": "stream",
     "text": [
      "[0, 46.66369154576466]\n",
      "[15.228053185625607, 0]\n"
     ]
    }
   ],
   "source": [
    "w[0]= -2.85244895\n",
    "w[0]=-5\n",
    "px=[0, -w[0]/w[1] ] #x=0, and x=value for y=0\n",
    "print(px)\n",
    "px2=[ -w[0]/w[2], 0 ] #y= value for x=0, 0\n",
    "print(px2)"
   ]
  },
  {
   "cell_type": "code",
   "execution_count": 34,
   "metadata": {},
   "outputs": [
    {
     "data": {
      "image/png": "[encoded data removed]",
      "text/plain": [
       "<Figure size 432x288 with 1 Axes>"
      ]
     },
     "metadata": {
      "needs_background": "light"
     },
     "output_type": "display_data"
    }
   ],
   "source": [
    "plt.scatter(X[:,1],X[:, 2],marker='o', c=y)  \n",
    "plt.plot(px, px2 )  \n",
    "plt.show()"
   ]
  },
  {
   "cell_type": "code",
   "execution_count": null,
   "metadata": {},
   "outputs": [],
   "source": []
  },
  {
   "cell_type": "code",
   "execution_count": null,
   "metadata": {},
   "outputs": [],
   "source": []
  },
  {
   "cell_type": "code",
   "execution_count": null,
   "metadata": {},
   "outputs": [],
   "source": []
  },
  {
   "cell_type": "markdown",
   "metadata": {},
   "source": [
    "### IRIS data"
   ]
  },
  {
   "cell_type": "code",
   "execution_count": 29,
   "metadata": {},
   "outputs": [],
   "source": [
    "from sklearn import datasets\n",
    "import numpy as np  \n",
    "import matplotlib.pyplot as plt  "
   ]
  },
  {
   "cell_type": "code",
   "execution_count": 30,
   "metadata": {},
   "outputs": [
    {
     "name": "stdout",
     "output_type": "stream",
     "text": [
      "(100, 2) (100,)\n"
     ]
    }
   ],
   "source": [
    "datas=datasets.load_iris()\n",
    "X=datas['data'][:100]      #first two class only.\n",
    "y=datas['target'][:100]\n",
    "# print(X.shape, y.shape)\n",
    "\n",
    "X=X[:,:2]  #first two column.\n",
    "print(X.shape, y.shape)"
   ]
  },
  {
   "cell_type": "code",
   "execution_count": 31,
   "metadata": {},
   "outputs": [
    {
     "data": {
      "image/png": "[encoded data removed]",
      "text/plain": [
       "<Figure size 432x288 with 1 Axes>"
      ]
     },
     "metadata": {
      "needs_background": "light"
     },
     "output_type": "display_data"
    }
   ],
   "source": [
    "plt.scatter(X[:,0], X[:,1], c=y) \n",
    "plt.show()"
   ]
  },
  {
   "cell_type": "code",
   "execution_count": 32,
   "metadata": {},
   "outputs": [
    {
     "name": "stdout",
     "output_type": "stream",
     "text": [
      "[0 0 0 0 0 0 0 0 0 0 0 0 0 0 0 0 0 0 0 0 0 0 0 0 0 0 0 0 0 0 0 0 0 0 0 0 0\n",
      " 0 0 0 0 0 0 0 0 0 0 0 0 0 1 1 1 1 1 1 1 1 1 1 1 1 1 1 1 1 1 1 1 1 1 1 1 1\n",
      " 1 1 1 1 1 1 1 1 1 1 1 1 1 1 1 1 1 1 1 1 1 1 1 1 1 1]\n",
      "[-1 -1 -1 -1 -1 -1 -1 -1 -1 -1 -1 -1 -1 -1 -1 -1 -1 -1 -1 -1 -1 -1 -1 -1\n",
      " -1 -1 -1 -1 -1 -1 -1 -1 -1 -1 -1 -1 -1 -1 -1 -1 -1 -1 -1 -1 -1 -1 -1 -1\n",
      " -1 -1  1  1  1  1  1  1  1  1  1  1  1  1  1  1  1  1  1  1  1  1  1  1\n",
      "  1  1  1  1  1  1  1  1  1  1  1  1  1  1  1  1  1  1  1  1  1  1  1  1\n",
      "  1  1  1  1]\n"
     ]
    }
   ],
   "source": [
    "print(y)\n",
    "y[y==0]=-1\n",
    "print(y)"
   ]
  },
  {
   "cell_type": "code",
   "execution_count": 33,
   "metadata": {},
   "outputs": [],
   "source": [
    "# Standardize the data\n",
    "X=(X-X.mean(axis=0))/X.std(axis=0)"
   ]
  },
  {
   "cell_type": "code",
   "execution_count": 34,
   "metadata": {},
   "outputs": [
    {
     "data": {
      "text/plain": [
       "(100, 2)"
      ]
     },
     "execution_count": 34,
     "metadata": {},
     "output_type": "execute_result"
    }
   ],
   "source": [
    "X.shape"
   ]
  },
  {
   "cell_type": "code",
   "execution_count": 35,
   "metadata": {},
   "outputs": [
    {
     "name": "stdout",
     "output_type": "stream",
     "text": [
      "(100, 3)\n"
     ]
    }
   ],
   "source": [
    "X= np.c_[np.ones(X.shape[0]), X]  #add column with value 1 in the first column. reqire no additional bias.\n",
    "print(X.shape)"
   ]
  },
  {
   "cell_type": "code",
   "execution_count": null,
   "metadata": {},
   "outputs": [],
   "source": []
  },
  {
   "cell_type": "code",
   "execution_count": 56,
   "metadata": {},
   "outputs": [
    {
     "name": "stdout",
     "output_type": "stream",
     "text": [
      "_all_classified_ at  9\n",
      "[ 1.          3.49109407 -2.30717959]\n"
     ]
    }
   ],
   "source": [
    "w = np.random.rand(X.shape[1])    #1x3 \n",
    "w=np.zeros(X.shape[1])\n",
    "Z=np.dot(X,w.T)         #nX3 dot 1x3\n",
    "py=[1 if iz>0 else -1 for iz in Z]   #signum\n",
    "miss=np.where(py!=y)[0]              #missclassified indexes\n",
    " \n",
    "eta=1\n",
    "epoch=5000\n",
    "loss_hist=[]\n",
    "for i in range(epoch):\n",
    "    if len(miss)==0: #all data are classified.\n",
    "        print('_all_classified_ at ',i)\n",
    "        break\n",
    "    rnd=np.random.choice(miss)\n",
    "    rx=X[rnd]\n",
    "    ry=y[rnd]\n",
    "    w=w+eta*rx*ry\n",
    "        \n",
    "    Z=np.dot(X,w.T)         #nX3 dot 1x3\n",
    "    py=[1 if iz>0 else -1 for iz in Z]  #signum\n",
    "    miss=np.where(py!=y)[0] #missclassified indexes\n",
    "    loss=np.sum( (y-py)**2 )/X.shape[0]\n",
    "    loss_hist.append(loss)\n",
    "print(w)"
   ]
  },
  {
   "cell_type": "code",
   "execution_count": 57,
   "metadata": {},
   "outputs": [
    {
     "data": {
      "text/plain": [
       "Text(0.5, 1.0, 'Loss history')"
      ]
     },
     "execution_count": 57,
     "metadata": {},
     "output_type": "execute_result"
    },
    {
     "data": {
      "image/png": "[encoded data removed]",
      "text/plain": [
       "<Figure size 432x288 with 1 Axes>"
      ]
     },
     "metadata": {
      "needs_background": "light"
     },
     "output_type": "display_data"
    }
   ],
   "source": [
    "plt.plot(loss_hist)\n",
    "plt.title('Loss history')"
   ]
  },
  {
   "cell_type": "code",
   "execution_count": 85,
   "metadata": {},
   "outputs": [
    {
     "data": {
      "image/png": "[encoded data removed]",
      "text/plain": [
       "<Figure size 432x288 with 1 Axes>"
      ]
     },
     "metadata": {
      "needs_background": "light"
     },
     "output_type": "display_data"
    }
   ],
   "source": [
    "bx=np.arange(-2,2,0.5)\n",
    "#ax+by+c=0\n",
    "ny=-(w[1]*bx+w[0])/w[2]\n",
    "\n",
    "plt.scatter(X[:,1],X[:, 2],marker='o', c=y)  \n",
    "plt.plot(bx, ny )  \n",
    "plt.show()"
   ]
  },
  {
   "cell_type": "markdown",
   "metadata": {},
   "source": [
    "### plotting the decision boundary"
   ]
  },
  {
   "cell_type": "code",
   "execution_count": 81,
   "metadata": {},
   "outputs": [],
   "source": [
    "xd=np.arange(-3, 3+1, 0.01)\n",
    "yd=np.arange(-3,3+1, 0.01)\n",
    "xx,yy=np.meshgrid(xd,yd)\n",
    "nx=np.array([xx.flatten(), yy.flatten()]).T\n",
    "nx=np.c_[np.ones(nx.shape[0]), nx]"
   ]
  },
  {
   "cell_type": "code",
   "execution_count": 82,
   "metadata": {},
   "outputs": [
    {
     "data": {
      "text/plain": [
       "(490000, 3)"
      ]
     },
     "execution_count": 82,
     "metadata": {},
     "output_type": "execute_result"
    }
   ],
   "source": [
    "nx.shape"
   ]
  },
  {
   "cell_type": "code",
   "execution_count": 83,
   "metadata": {},
   "outputs": [],
   "source": [
    "z=np.dot(nx,w) \n",
    "out=np.array([1 if iz>=0 else -1 for iz in z])  \n",
    "out=out.reshape(xx.shape) "
   ]
  },
  {
   "cell_type": "code",
   "execution_count": 86,
   "metadata": {},
   "outputs": [
    {
     "data": {
      "image/png": "[encoded data removed]",
      "text/plain": [
       "<Figure size 432x288 with 1 Axes>"
      ]
     },
     "metadata": {
      "needs_background": "light"
     },
     "output_type": "display_data"
    }
   ],
   "source": [
    "plt.contourf(xx, yy, out, alpha=0.5 )\n",
    "plt.scatter(X[:,1],X[:, 2],marker='o', c=y, cmap='jet') \n",
    "plt.show()"
   ]
  },
  {
   "cell_type": "markdown",
   "metadata": {},
   "source": [
    "<b>Helper"
   ]
  },
  {
   "cell_type": "code",
   "execution_count": 5,
   "metadata": {},
   "outputs": [
    {
     "data": {
      "text/plain": [
       "<matplotlib.collections.PathCollection at 0x1627d9e4e10>"
      ]
     },
     "execution_count": 5,
     "metadata": {},
     "output_type": "execute_result"
    },
    {
     "data": {
      "image/png": "[encoded data removed]",
      "text/plain": [
       "<Figure size 432x288 with 1 Axes>"
      ]
     },
     "metadata": {
      "needs_background": "light"
     },
     "output_type": "display_data"
    }
   ],
   "source": [
    "X=np.array([[1, 2], [4, 5], [12, 7], [16, 10], [20, 5], [5, 8], [10, 10]  ])\n",
    "y=np.array([1, 1, -1, -1,  1, -1, -1])\n",
    "plt.scatter(X[:,0], X[:,1], c=y)"
   ]
  },
  {
   "cell_type": "code",
   "execution_count": 6,
   "metadata": {},
   "outputs": [
    {
     "name": "stdout",
     "output_type": "stream",
     "text": [
      "(7, 3)\n"
     ]
    }
   ],
   "source": [
    "X= np.c_[np.ones(X.shape[0]), X]  #add column with value 1 in the first column. reqire no additional bias.\n",
    "print(X.shape)"
   ]
  },
  {
   "cell_type": "code",
   "execution_count": 12,
   "metadata": {},
   "outputs": [
    {
     "name": "stdout",
     "output_type": "stream",
     "text": [
      "[ 0.5 -0.2  0.2]\n"
     ]
    }
   ],
   "source": [
    "w = np.array([0.5, -0.2, 0.2])\n",
    "b=0.5\n",
    "print(w)"
   ]
  },
  {
   "cell_type": "code",
   "execution_count": 8,
   "metadata": {},
   "outputs": [
    {
     "name": "stdout",
     "output_type": "stream",
     "text": [
      "[1, 1, -1, -1, -1, 1, 1]\n",
      "[4 5 6]\n"
     ]
    }
   ],
   "source": [
    "Z=np.dot(X,w  )         #nX3 dot 1x3\n",
    "py=[1 if iz>0 else -1 for iz in Z]   #signum\n",
    "miss=np.where(py!=y)[0]              #missclassified indexes\n",
    "print(py)\n",
    "print(miss)"
   ]
  },
  {
   "cell_type": "code",
   "execution_count": 9,
   "metadata": {},
   "outputs": [
    {
     "data": {
      "text/plain": [
       "array([ 0.7,  0.7, -0.5, -0.7, -2.5,  1.1,  0.5])"
      ]
     },
     "execution_count": 9,
     "metadata": {},
     "output_type": "execute_result"
    }
   ],
   "source": [
    "X@w"
   ]
  },
  {
   "cell_type": "code",
   "execution_count": null,
   "metadata": {},
   "outputs": [],
   "source": []
  },
  {
   "cell_type": "code",
   "execution_count": 10,
   "metadata": {},
   "outputs": [],
   "source": [
    "w = np.array([-0.2, 0.1])\n",
    "b=0.5"
   ]
  },
  {
   "cell_type": "code",
   "execution_count": 14,
   "metadata": {},
   "outputs": [],
   "source": [
    "w = np.array([0.5, -0.2, 0.1]) "
   ]
  },
  {
   "cell_type": "code",
   "execution_count": 15,
   "metadata": {},
   "outputs": [
    {
     "name": "stdout",
     "output_type": "stream",
     "text": [
      "[1, 1, -1, -1, -1, 1, -1]\n",
      "[4 5]\n"
     ]
    }
   ],
   "source": [
    "Z=X@w+b\n",
    "py=[1 if iz>0 else -1 for iz in Z]   #signum\n",
    "miss=np.where(py!=y)[0]              #missclassified indexes\n",
    "print(py)\n",
    "print(miss)"
   ]
  },
  {
   "cell_type": "code",
   "execution_count": 18,
   "metadata": {},
   "outputs": [
    {
     "data": {
      "text/plain": [
       "-1.2000000000000002"
      ]
     },
     "execution_count": 18,
     "metadata": {},
     "output_type": "execute_result"
    }
   ],
   "source": [
    "-0.2*12+0.1*7+0.5"
   ]
  },
  {
   "cell_type": "code",
   "execution_count": 19,
   "metadata": {},
   "outputs": [
    {
     "data": {
      "text/plain": [
       "array([ 1. ,  0.7, -0.7, -1.2, -2.5,  0.8,  0. ])"
      ]
     },
     "execution_count": 19,
     "metadata": {},
     "output_type": "execute_result"
    }
   ],
   "source": [
    "Z"
   ]
  },
  {
   "cell_type": "markdown",
   "metadata": {},
   "source": [
    "<b> Bias"
   ]
  },
  {
   "cell_type": "code",
   "execution_count": 60,
   "metadata": {},
   "outputs": [
    {
     "name": "stdout",
     "output_type": "stream",
     "text": [
      "[0, 1, 2, 3, 4, 5, 6, 7, 8, 9]\n"
     ]
    }
   ],
   "source": [
    "x=[ix for ix in range(10)]\n",
    "print(x)"
   ]
  },
  {
   "cell_type": "code",
   "execution_count": 70,
   "metadata": {},
   "outputs": [
    {
     "name": "stdout",
     "output_type": "stream",
     "text": [
      "[2.0, 2.45, 2.9, 3.35, 3.8, 4.25, 4.7, 5.15, 5.6, 6.05]\n"
     ]
    }
   ],
   "source": [
    "m=0.45\n",
    "c=2\n",
    "y=[m*ix+c for ix in x]\n",
    "print(y)"
   ]
  },
  {
   "cell_type": "code",
   "execution_count": 71,
   "metadata": {},
   "outputs": [
    {
     "data": {
      "image/png": "[encoded data removed]",
      "text/plain": [
       "<Figure size 432x288 with 1 Axes>"
      ]
     },
     "metadata": {
      "needs_background": "light"
     },
     "output_type": "display_data"
    }
   ],
   "source": [
    "# plt.scatter([1,4,8],[1,4,8])\n",
    "plt.plot(x,y)\n",
    "plt.ylim(0,10)\n",
    "plt.xlim(0,10)\n",
    "X=np.array([[1, 2], [4, 3], [3, 7],  [2, 5], [5, 8], [6, 6]  ])\n",
    "yy=np.array([1, 1, -1, -1,    -1, -1])\n",
    "plt.scatter(X[:,0], X[:,1], c=yy)\n",
    "plt.show()"
   ]
  },
  {
   "cell_type": "code",
   "execution_count": null,
   "metadata": {},
   "outputs": [],
   "source": []
  },
  {
   "cell_type": "code",
   "execution_count": 72,
   "metadata": {},
   "outputs": [],
   "source": [
    "w = np.array([4, 6]) \n",
    "x = np.array([3, 2]) "
   ]
  },
  {
   "cell_type": "code",
   "execution_count": 73,
   "metadata": {},
   "outputs": [
    {
     "data": {
      "text/plain": [
       "24"
      ]
     },
     "execution_count": 73,
     "metadata": {},
     "output_type": "execute_result"
    }
   ],
   "source": [
    "w@x"
   ]
  },
  {
   "cell_type": "code",
   "execution_count": 93,
   "metadata": {},
   "outputs": [],
   "source": [
    "a=np.sqrt(4*4+6*6)"
   ]
  },
  {
   "cell_type": "code",
   "execution_count": 94,
   "metadata": {},
   "outputs": [],
   "source": [
    "b=np.sqrt(3*3+2*2)"
   ]
  },
  {
   "cell_type": "code",
   "execution_count": 95,
   "metadata": {},
   "outputs": [],
   "source": [
    "a=np.sqrt(7*7+8*8)"
   ]
  },
  {
   "cell_type": "code",
   "execution_count": 102,
   "metadata": {},
   "outputs": [],
   "source": [
    "a=np.sqrt(1*1+4*4)"
   ]
  },
  {
   "cell_type": "code",
   "execution_count": 103,
   "metadata": {},
   "outputs": [
    {
     "name": "stdout",
     "output_type": "stream",
     "text": [
      "4.123105625617661 3.605551275463989\n"
     ]
    }
   ],
   "source": [
    "print(a, b)"
   ]
  },
  {
   "cell_type": "code",
   "execution_count": 104,
   "metadata": {},
   "outputs": [
    {
     "name": "stdout",
     "output_type": "stream",
     "text": [
      "1.61441470559115\n"
     ]
    }
   ],
   "source": [
    "t=(24)/(a*b)\n",
    "print(t)"
   ]
  },
  {
   "cell_type": "code",
   "execution_count": 105,
   "metadata": {},
   "outputs": [
    {
     "name": "stderr",
     "output_type": "stream",
     "text": [
      "C:\\Python37\\lib\\site-packages\\ipykernel_launcher.py:1: RuntimeWarning: invalid value encountered in arccos\n",
      "  \"\"\"Entry point for launching an IPython kernel.\n"
     ]
    }
   ],
   "source": [
    "d=np.arccos(t)"
   ]
  },
  {
   "cell_type": "code",
   "execution_count": 106,
   "metadata": {},
   "outputs": [
    {
     "name": "stdout",
     "output_type": "stream",
     "text": [
      "nan\n"
     ]
    }
   ],
   "source": [
    "print(d)"
   ]
  },
  {
   "cell_type": "code",
   "execution_count": 107,
   "metadata": {},
   "outputs": [
    {
     "data": {
      "text/plain": [
       "nan"
      ]
     },
     "execution_count": 107,
     "metadata": {},
     "output_type": "execute_result"
    }
   ],
   "source": [
    "np.rad2deg(d)"
   ]
  },
  {
   "cell_type": "code",
   "execution_count": null,
   "metadata": {},
   "outputs": [],
   "source": []
  },
  {
   "cell_type": "code",
   "execution_count": null,
   "metadata": {},
   "outputs": [],
   "source": []
  },
  {
   "cell_type": "code",
   "execution_count": null,
   "metadata": {},
   "outputs": [],
   "source": []
  }
 ],
 "metadata": {
  "kernelspec": {
   "display_name": "Python 3",
   "language": "python",
   "name": "python3"
  },
  "language_info": {
   "codemirror_mode": {
    "name": "ipython",
    "version": 3
   },
   "file_extension": ".py",
   "mimetype": "text/x-python",
   "name": "python",
   "nbconvert_exporter": "python",
   "pygments_lexer": "ipython3",
   "version": "3.8.5"
  }
 },
 "nbformat": 4,
 "nbformat_minor": 2
}
